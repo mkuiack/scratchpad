{
 "cells": [
  {
   "cell_type": "code",
   "execution_count": 1,
   "metadata": {},
   "outputs": [],
   "source": [
    "import matplotlib\n",
    "matplotlib.use('Agg')\n",
    "\n",
    "from astropy.io import fits\n",
    "import glob\n",
    "import os\n",
    "import sys\n",
    "import time\n",
    "import h5py\n",
    "import numpy as np\n",
    "import pandas as pd\n",
    "import subprocess\n",
    "from astropy.visualization import ZScaleInterval\n",
    "from scipy import interpolate\n",
    "\n",
    "import matplotlib.pyplot as plt \n",
    "\n",
    "from joblib import Parallel, delayed"
   ]
  },
  {
   "cell_type": "code",
   "execution_count": 2,
   "metadata": {},
   "outputs": [],
   "source": [
    "def get_delay(f_l, f_h, DM):\n",
    "    '''\n",
    "    Calculate DM delay between two frequencies for given DM\n",
    "    Args:\n",
    "        f_l, f_h: float, low/high frequencies in MHz\n",
    "        DM: float or int, in pc cm^3\n",
    "    Returns:\n",
    "        delay due to DM: float, seconds\n",
    "    '''\n",
    "    return 4.15*(10.**3)*(f_l**(-2.)-f_h**(-2.))*DM\n",
    "\n",
    "def get_SB(freq):\n",
    "    '''\n",
    "    Return the central frequency of a LOFAR subband, for  LBA.\n",
    "    Input: MHz (float) \n",
    "    Output: Subband (int)\n",
    "    '''\n",
    "    return int(np.floor((1024./200.)*freq))\n",
    "\n",
    "def get_freq(SB):\n",
    "    '''\n",
    "    Return the LOFAR subband of a given frequency, for LBA.\n",
    "    Input: Subband\n",
    "    Output: MHz (float) \n",
    "    '''\n",
    "    return (SB/512.)*200./2.\n",
    "\n",
    "def get_beam(freq):\n",
    "    beams = np.array([30,35,40,50,55,60,65,70,75,80,85,90])\n",
    "    freq_to_use = str(beams[np.argsort(np.abs(freq-beams))[0]])\n",
    "\n",
    "    beam_file = \"/home/mkuiack1/AARTFAAC_beamsim/LBAOUTER_AARTFAAC_beamshape_{}MHz.hdf5\".format(freq_to_use)\n",
    "    orig =  np.array(h5py.File(beam_file, mode=\"r\").get('lmbeamintensity_norm'))\n",
    "\n",
    "    # Make its coordinates; x is horizontal.\n",
    "    x = np.linspace(0, 2300, orig.shape[1])\n",
    "    y = np.linspace(0, 2300, orig.shape[0])\n",
    "\n",
    "    # Make the interpolator function.\n",
    "    f = interpolate.interp2d(x, y, orig, kind='linear')\n",
    "\n",
    "    # Construct the new coordinate arrays.\n",
    "    x_new = np.arange(0, 2300)\n",
    "    y_new = np.arange(0, 2300)\n",
    "\n",
    "    # Do the interpolation.\n",
    "    return f(x_new, y_new)\n",
    "\n",
    "def get_slices(OBS):\n",
    "    return [os.path.basename(x)[:-4]\n",
    "            for x in sorted(glob.glob(\"/zfs/helios/filer?/mkuiack1/{}/*_all\"\n",
    "                               .format(OBS)))]\n",
    "\n",
    "def get_ddfilelist(filelist, freqs, check_time, DM, integration=1):\n",
    "    dd_filelist = []\n",
    "    \n",
    "    for nth_timestep in range(integration):\n",
    "        check_time = pd.to_datetime(check_time)+pd.to_timedelta(nth_timestep, unit='s')\n",
    "        for i in range(len(freqs)):\n",
    "            try:\n",
    "                newfile = filelist[str(freqs[i])].loc[pd.to_datetime(check_time)\n",
    "                                        +pd.to_timedelta(np.round(get_delay(freqs[i],np.max(freqs), DM),0), unit='s') ]\n",
    "                if str(newfile) == 'nan' :\n",
    "                    newfile = filelist[str(freqs[i])].loc[pd.to_datetime(check_time)\n",
    "                          +pd.to_timedelta(np.round(get_delay(freqs[i],np.max(freqs), DM),0), unit='s')-\n",
    "                         +pd.to_timedelta(1, unit='s')]\n",
    "                dd_filelist.append(newfile)\n",
    "            except KeyError:\n",
    "                try:\n",
    "                    newfile = filelist[str(freqs[i])].loc[pd.to_datetime(check_time)\n",
    "                          +pd.to_timedelta(np.round(get_delay(freqs[i],np.max(freqs), DM),0), unit='s')-\n",
    "                         +pd.to_timedelta(1, unit='s')]\n",
    "                    dd_filelist.append(newfile)\n",
    "                except KeyError:\n",
    "    #                 print \"no\"\n",
    "                    continue \n",
    "    return dd_filelist\n",
    "\n",
    "def make_dedisperse_image(dd_filelist):\n",
    "    \n",
    "    integrated = np.zeros([1024,1024])\n",
    "    \n",
    "    for img in dd_filelist:\n",
    "        hdu_1 = fits.open(img)[0]\n",
    "        integrated += hdu_1.data[0,0,:,:]\n",
    "        \n",
    "    return integrated"
   ]
  },
  {
   "cell_type": "code",
   "execution_count": 3,
   "metadata": {},
   "outputs": [],
   "source": [
    "def make_filelist(OBS, SLICE):\n",
    "    subbands = np.array(sorted([os.path.basename(x)[2:5] for x in  glob.glob(\"/zfs/helios/filer?/mkuiack1/{}/SB*.vis\".format(OBS)) ]), dtype=int)\n",
    "\n",
    "#     print len(subbands), \"subbands in\", \"/zfs/helios/filer0/mkuiack1/{}/SB*.vis\".format(OBS)\n",
    "    if len(subbands) == 0:\n",
    "        print (\"/zfs/helios/filer?/mkuiack1/{}/SB*.vis\".format(OBS))\n",
    "        sys.exit()\n",
    "\n",
    "    filelist = pd.DataFrame([])\n",
    "\n",
    "    for i in range(len(subbands)):\n",
    "\n",
    "        if subbands[i] == 256:\n",
    "            continue \n",
    "\n",
    "#         print subbands[i]\n",
    "        index = pd.to_datetime([os.path.basename(x)[:21]\n",
    "                                for x in sorted(glob.glob(\"/zfs/helios/filer?/mkuiack1/{}/{}_all/SB\".format(OBS, SLICE)\n",
    "                                                          +str(subbands[i])\n",
    "                                                          +\"*/imgs/*.fits\"))]).round(\"100ms\")\n",
    "\n",
    "        df = pd.DataFrame({str(get_freq(subbands[i])):\\\n",
    "                           sorted(glob.glob(\"/zfs/helios/filer?/mkuiack1/{}/{}_all/SB\".format(OBS, SLICE)\n",
    "                                            +str(subbands[i])\n",
    "                                            +\"*/imgs/*.fits\"))},\n",
    "                          index=index)\n",
    "\n",
    "\n",
    "        filelist = pd.concat([filelist, df.loc[~df.index.duplicated(keep='first')]], axis=1)\n",
    "    print (\"len file list\", len(filelist))\n",
    "    return filelist, index\n",
    "        \n",
    "        \n",
    "        \n",
    "        "
   ]
  },
  {
   "cell_type": "code",
   "execution_count": 4,
   "metadata": {},
   "outputs": [],
   "source": [
    "# frame = 0\n",
    "# for fi_ind in index:\n",
    "\n",
    "def make_frame(fi_ind):\n",
    "#    im_stack = np.zeros([2300, 2300])\n",
    "    f_stack = []\n",
    "    all_freqs = []\n",
    "    slice_times = []\n",
    "    all_std = []\n",
    "    count = 0 \n",
    "    psr = []\n",
    "#     im_stack = []\n",
    "    im_stack = np.zeros([2300,2300])\n",
    "    print( fi_ind)\n",
    "    for img_file in get_ddfilelist(filelist, get_freq(subbands), fi_ind, 0, \n",
    "                                   integration=integration):\n",
    "#             print img_file\n",
    "            try:\n",
    "                if os.path.exists(\"/hddstore/mkuiack1/png/{}.png\".format(os.path.basename(img_file)[:21])):\n",
    "                    print (\"/hddstore/mkuiack1/png/{}.png\".format(os.path.basename(img_file)[:21])+\" done.\")\n",
    "                    return 0 \n",
    "            except IndexError:\n",
    "                continue\n",
    "            except AttributeError:\n",
    "                continue \n",
    "            try:\n",
    "                data, f = fits.getdata(img_file, header=True)\n",
    "            except IOError:\n",
    "                print (\"IOError\", img_file)\n",
    "                continue  \n",
    "            STD = np.std(data[0,0,500:1500,500:1500])\n",
    "\n",
    "\n",
    "            all_std.append(STD)\n",
    "    #         print STD\n",
    "            slice_times.append(f[\"DATE-OBS\"])\n",
    "            all_freqs.append(f[\" CRVAL3\"])\n",
    "\n",
    "            beam_model = get_beam(f[\" CRVAL3\"]/1e6)\n",
    "            \n",
    "            if STD < 30. and STD > 3.:\n",
    "                f_stack.append(f)\n",
    "#                 im_stack.append(data[0,0,:,:]/np.abs(np.median(data[0,0,500:1500,500:1500]))\n",
    "                im_stack += data[0,0,:,:]/np.abs(np.median(data[0,0,500:1500,500:1500]))\n",
    "                                \n",
    "    if len(im_stack) == 0:\n",
    "        print (\"no good image in \", fi_ind)\n",
    "        return 0\n",
    "    \n",
    "#     pd.DataFrame(all_std).T.to_csv('img_stds.csv', mode='a', header=False, index=False)\n",
    "    \n",
    "    fig = plt.figure(figsize=(10.8, 10.8))\n",
    "    ax = plt.subplot(111)\n",
    "    \n",
    "#     img = np.median(np.array(im_stack), axis=0)\n",
    "    \n",
    "    vmin, vmax= ZScaleInterval(contrast=0.4).get_limits(im_stack)\n",
    "    \n",
    "    imgmap = plt.imshow(im_stack, origin=\"lower\",\n",
    "               vmin=vmin, vmax=vmax)\n",
    "    \n",
    "    plt.text(.01,.98, f[\"DATE-OBS\"], va=\"top\", ha=\"left\",\n",
    "             fontsize=16, color=\"white\", transform=ax.transAxes,)\n",
    "    \n",
    "    plt.text(.01,.95, \"nSB: {}\".format(len(f_stack)), va=\"top\", ha=\"left\",\n",
    "             fontsize=16, color=\"white\", transform=ax.transAxes,)\n",
    "\n",
    "\n",
    "    imgmap.cmap.set_bad('k',1.)\n",
    "    ax.patch.set_facecolor('k')\n",
    "\n",
    "    plt.xticks([])\n",
    "    plt.yticks([])\n",
    "    plt.tight_layout()\n",
    "\n",
    "    fig.savefig(\"/hddstore/mkuiack1/png/{}.png\".format(f[\"DATE-OBS\"]), \n",
    "                dpi=100, facecolor='black')\n",
    "    plt.close()\n",
    "    return 0 "
   ]
  },
  {
   "cell_type": "code",
   "execution_count": 5,
   "metadata": {
    "scrolled": false
   },
   "outputs": [
    {
     "name": "stdout",
     "output_type": "stream",
     "text": [
      "mkdir: cannot create directory ‘/hddstore/mkuiack1/png’: File exists\n",
      "16 subbands in /zfs/helios/filer1/mkuiack1/202102230045/SB*.vis\n",
      "2021-02-23T00:50:13-00:53:23\n",
      "len file list 189\n",
      "2021-02-23T00:53:13-00:56:23\n",
      "len file list 189\n",
      "2021-02-23T00:56:13-00:59:23\n",
      "len file list 188\n",
      "2021-02-23T00:59:13-01:02:23\n",
      "len file list 189\n",
      "2021-02-23T01:02:13-01:05:23\n",
      "len file list 189\n",
      "2021-02-23T01:05:13-01:08:23\n",
      "len file list 189\n",
      "2021-02-23T01:08:13-01:11:23\n",
      "len file list 189\n",
      "2021-02-23T01:11:13-01:14:23\n",
      "len file list 188\n",
      "2021-02-23T01:14:13-01:17:23\n",
      "len file list 189\n",
      "2021-02-23T01:17:13-01:20:23\n",
      "len file list 189\n",
      "2021-02-23T01:20:13-01:23:23\n",
      "len file list 189\n",
      "2021-02-23T01:23:13-01:26:23\n",
      "len file list 189\n",
      "2021-02-23T01:26:13-01:29:23\n",
      "len file list 188\n",
      "2021-02-23T01:29:13-01:32:23\n",
      "len file list 188\n",
      "2021-02-23T01:32:13-01:35:23\n",
      "len file list 189\n",
      "2021-02-23T01:35:13-01:38:23\n",
      "len file list 189\n",
      "2021-02-23T01:38:13-01:41:23\n",
      "len file list 189\n",
      "2021-02-23T01:41:13-01:44:23\n",
      "len file list 189\n",
      "2021-02-23T01:44:13-01:47:23\n",
      "len file list 188\n",
      "2021-02-23T01:47:13-01:50:23\n",
      "len file list 189\n",
      "Done. 202102230045 4164.73\n",
      "16 subbands in /zfs/helios/filer1/mkuiack1/202102230145/SB*.vis\n",
      "2021-02-23T01:50:36-01:53:46\n",
      "len file list 189\n",
      "2021-02-23T01:53:36-01:56:46\n",
      "len file list 189\n",
      "2021-02-23T01:56:36-01:59:46\n",
      "len file list 188\n",
      "2021-02-23T01:59:36-02:02:46\n",
      "len file list 188\n",
      "2021-02-23T02:02:36-02:05:46\n",
      "len file list 189\n",
      "2021-02-23T02:05:36-02:08:46\n",
      "len file list 189\n",
      "2021-02-23T02:08:36-02:11:46\n",
      "len file list 189\n",
      "2021-02-23T02:11:36-02:14:46\n",
      "len file list 189\n",
      "2021-02-23T02:14:36-02:17:46\n",
      "len file list 188\n",
      "2021-02-23T02:17:36-02:20:46\n",
      "len file list 189\n",
      "2021-02-23T02:20:36-02:23:46\n",
      "len file list 189\n",
      "2021-02-23T02:23:36-02:26:46\n",
      "len file list 189\n",
      "2021-02-23T02:26:36-02:29:46\n",
      "len file list 189\n",
      "2021-02-23T02:29:36-02:32:46\n",
      "len file list 188\n",
      "2021-02-23T02:32:36-02:35:46\n",
      "len file list 189\n",
      "2021-02-23T02:35:36-02:38:46\n",
      "len file list 189\n",
      "2021-02-23T02:38:36-02:41:46\n",
      "len file list 189\n",
      "2021-02-23T02:41:36-02:44:46\n",
      "len file list 189\n",
      "2021-02-23T02:44:36-02:47:46\n",
      "len file list 188\n",
      "2021-02-23T02:47:36-02:50:46\n",
      "len file list 188\n",
      "Done. 202102230145 4267.8\n",
      "16 subbands in /zfs/helios/filer1/mkuiack1/202102230245/SB*.vis\n",
      "2021-02-23T02:51:00-02:54:10\n",
      "len file list 189\n",
      "2021-02-23T02:54:00-02:57:10\n",
      "len file list 189\n",
      "2021-02-23T02:57:00-03:00:10\n",
      "len file list 189\n",
      "2021-02-23T03:00:00-03:03:10\n",
      "len file list 188\n",
      "2021-02-23T03:03:00-03:06:10\n",
      "len file list 189\n",
      "2021-02-23T03:06:00-03:09:10\n",
      "len file list 189\n",
      "2021-02-23T03:09:00-03:12:10\n",
      "len file list 189\n",
      "2021-02-23T03:12:00-03:15:10\n",
      "len file list 189\n",
      "2021-02-23T03:15:00-03:18:10\n",
      "len file list 188\n",
      "2021-02-23T03:18:00-03:21:10\n",
      "len file list 188\n",
      "2021-02-23T03:21:00-03:24:10\n",
      "len file list 189\n",
      "2021-02-23T03:24:00-03:27:10\n",
      "len file list 189\n",
      "2021-02-23T03:27:00-03:30:10\n",
      "len file list 189\n",
      "2021-02-23T03:30:00-03:33:10\n",
      "len file list 189\n",
      "2021-02-23T03:33:00-03:36:10\n",
      "len file list 188\n",
      "2021-02-23T03:36:00-03:39:10\n",
      "len file list 189\n",
      "2021-02-23T03:39:00-03:42:10\n",
      "len file list 189\n",
      "2021-02-23T03:42:00-03:45:10\n",
      "len file list 189\n",
      "2021-02-23T03:45:00-03:48:10\n",
      "len file list 189\n",
      "2021-02-23T03:48:00-03:51:10\n",
      "len file list 188\n",
      "Done. 202102230245 4334.44\n"
     ]
    }
   ],
   "source": [
    "!mkdir /hddstore/mkuiack1/png\n",
    "\n",
    "\n",
    "for OBS in [\"202102230045\",\"202102230145\",\"202102230245\"]:\n",
    "    t1 = time.time()\n",
    "    subbands = np.array(sorted([os.path.basename(x)[2:5]\n",
    "                                for x in  glob.glob(\"/zfs/helios/filer1/mkuiack1/{}/SB*.vis\".format(OBS)) ]),\n",
    "                        dtype=int)\n",
    "\n",
    "    print (len(subbands), \"subbands in\", \"/zfs/helios/filer1/mkuiack1/{}/SB*.vis\".format(OBS))\n",
    "    if len(subbands) == 0:\n",
    "        print (\"/zfs/helios/filer1/mkuiack1/{}/SB*.vis\".format(OBS))\n",
    "        sys.exit()\n",
    "\n",
    "    for _slice in get_slices(OBS):\n",
    "        print (_slice)\n",
    "\n",
    "        filelist, index = make_filelist(OBS, _slice)\n",
    "        integration = 1\n",
    "        with Parallel(n_jobs=9) as parallel:\n",
    "            _out = parallel(delayed(make_frame)(fi_ind) \n",
    "                                      for fi_ind in index[::integration])\n",
    "\n",
    "        subprocess.call([\"rsync\", \"--remove-source-files\",\n",
    "                     \"-av\", \"/hddstore/mkuiack1/png\",\n",
    "                     \"/zfs/helios/filer1/mkuiack1/{}\".format(OBS)])\n",
    "\n",
    "    print (\"Done.\", OBS, round(time.time()-t1, 2))"
   ]
  },
  {
   "cell_type": "code",
   "execution_count": 61,
   "metadata": {},
   "outputs": [
    {
     "name": "stdout",
     "output_type": "stream",
     "text": [
      "len file list 189\n",
      "2021-02-22 20:48:36.500000\n",
      "2021-02-22 20:48:37.500000\n",
      "2021-02-22 20:48:38.500000\n",
      "2021-02-22 20:48:39.500000\n",
      "2021-02-22 20:48:40.500000\n",
      "2021-02-22 20:48:41.500000\n",
      "2021-02-22 20:48:42.500000\n",
      "2021-02-22 20:48:43.500000\n",
      "2021-02-22 20:48:44.500000\n",
      "2021-02-22 20:48:45.500000\n",
      "2021-02-22 20:48:46.500000\n",
      "2021-02-22 20:48:47.500000\n",
      "2021-02-22 20:48:48.600000\n",
      "2021-02-22 20:48:49.600000\n",
      "2021-02-22 20:48:50.600000\n",
      "2021-02-22 20:48:51.600000\n",
      "2021-02-22 20:48:52.600000\n",
      "2021-02-22 20:48:53.600000\n",
      "2021-02-22 20:48:54.600000\n",
      "2021-02-22 20:48:55.600000\n",
      "2021-02-22 20:48:56.600000\n",
      "2021-02-22 20:48:57.600000\n",
      "2021-02-22 20:48:58.600000\n",
      "2021-02-22 20:48:59.600000\n",
      "2021-02-22 20:49:00.600000\n",
      "2021-02-22 20:49:01.600000\n",
      "2021-02-22 20:49:02.600000\n",
      "2021-02-22 20:49:03.700000\n",
      "2021-02-22 20:49:04.700000\n",
      "2021-02-22 20:49:05.700000\n",
      "2021-02-22 20:49:06.700000\n",
      "2021-02-22 20:49:07.700000\n",
      "2021-02-22 20:49:08.700000\n",
      "2021-02-22 20:49:09.700000\n",
      "2021-02-22 20:49:10.700000\n",
      "2021-02-22 20:49:11.700000\n",
      "2021-02-22 20:49:12.700000\n",
      "2021-02-22 20:49:13.700000\n",
      "2021-02-22 20:49:14.700000\n",
      "2021-02-22 20:49:15.700000\n",
      "2021-02-22 20:49:16.700000\n",
      "2021-02-22 20:49:17.700000\n",
      "2021-02-22 20:49:18.700000\n",
      "2021-02-22 20:49:19.800000\n",
      "2021-02-22 20:49:20.800000\n",
      "2021-02-22 20:49:21.800000\n",
      "2021-02-22 20:49:22.800000\n",
      "2021-02-22 20:49:23.800000\n",
      "2021-02-22 20:49:24.800000\n",
      "2021-02-22 20:49:25.800000\n",
      "2021-02-22 20:49:26.800000\n",
      "2021-02-22 20:49:27.800000\n",
      "2021-02-22 20:49:28.800000\n",
      "2021-02-22 20:49:29.800000\n",
      "2021-02-22 20:49:30.800000\n",
      "2021-02-22 20:49:31.800000\n",
      "2021-02-22 20:49:32.800000\n",
      "2021-02-22 20:49:33.800000\n",
      "2021-02-22 20:49:34.900000\n",
      "2021-02-22 20:49:35.900000\n",
      "2021-02-22 20:49:36.900000\n",
      "2021-02-22 20:49:37.900000\n",
      "2021-02-22 20:49:38.900000\n",
      "2021-02-22 20:49:39.900000\n",
      "2021-02-22 20:49:40.900000\n",
      "2021-02-22 20:49:41.900000\n",
      "2021-02-22 20:49:42.900000\n",
      "2021-02-22 20:49:43.900000\n",
      "2021-02-22 20:49:44.900000\n",
      "2021-02-22 20:49:45.900000\n",
      "2021-02-22 20:49:46.900000\n",
      "2021-02-22 20:49:47.900000\n",
      "2021-02-22 20:49:48.900000\n",
      "2021-02-22 20:49:50\n",
      "2021-02-22 20:49:51\n",
      "2021-02-22 20:49:52\n",
      "2021-02-22 20:49:53\n",
      "2021-02-22 20:49:54\n",
      "2021-02-22 20:49:55\n",
      "2021-02-22 20:49:56\n",
      "2021-02-22 20:49:57\n",
      "2021-02-22 20:49:58\n",
      "2021-02-22 20:49:59\n",
      "2021-02-22 20:50:00\n",
      "2021-02-22 20:50:01\n",
      "2021-02-22 20:50:02\n",
      "2021-02-22 20:50:03\n",
      "2021-02-22 20:50:04\n",
      "2021-02-22 20:50:05.100000\n",
      "2021-02-22 20:50:06.100000\n",
      "2021-02-22 20:50:07.100000\n",
      "2021-02-22 20:50:08.100000\n",
      "2021-02-22 20:50:09.100000\n",
      "2021-02-22 20:50:10.100000\n",
      "2021-02-22 20:50:11.100000\n",
      "2021-02-22 20:50:12.100000\n",
      "2021-02-22 20:50:13.100000\n",
      "2021-02-22 20:50:14.100000\n",
      "2021-02-22 20:50:15.100000\n",
      "2021-02-22 20:50:16.100000\n",
      "2021-02-22 20:50:17.100000\n",
      "2021-02-22 20:50:18.100000\n",
      "2021-02-22 20:50:19.100000\n",
      "2021-02-22 20:50:20.200000\n",
      "2021-02-22 20:50:21.200000\n",
      "2021-02-22 20:50:22.200000\n",
      "2021-02-22 20:50:23.200000\n",
      "2021-02-22 20:50:24.200000\n",
      "2021-02-22 20:50:25.200000\n",
      "2021-02-22 20:50:26.200000\n",
      "2021-02-22 20:50:27.200000\n",
      "2021-02-22 20:50:28.200000\n",
      "2021-02-22 20:50:29.200000\n",
      "2021-02-22 20:50:30.200000\n",
      "2021-02-22 20:50:31.200000\n",
      "2021-02-22 20:50:32.200000\n",
      "2021-02-22 20:50:33.200000\n",
      "2021-02-22 20:50:34.200000\n",
      "2021-02-22 20:50:35.300000\n",
      "2021-02-22 20:50:36.300000\n",
      "2021-02-22 20:50:37.300000\n",
      "2021-02-22 20:50:38.300000\n",
      "2021-02-22 20:50:39.300000\n",
      "2021-02-22 20:50:40.300000\n",
      "2021-02-22 20:50:41.300000\n",
      "2021-02-22 20:50:42.300000\n",
      "2021-02-22 20:50:43.300000\n",
      "2021-02-22 20:50:44.300000\n",
      "2021-02-22 20:50:45.300000\n",
      "2021-02-22 20:50:46.300000\n",
      "2021-02-22 20:50:47.300000\n",
      "2021-02-22 20:50:48.300000\n",
      "2021-02-22 20:50:49.300000\n",
      "2021-02-22 20:50:50.400000\n",
      "2021-02-22 20:50:51.400000\n",
      "2021-02-22 20:50:52.400000\n",
      "2021-02-22 20:50:53.400000\n",
      "2021-02-22 20:50:54.400000\n",
      "2021-02-22 20:50:55.400000\n",
      "2021-02-22 20:50:56.400000\n",
      "2021-02-22 20:50:57.400000\n",
      "2021-02-22 20:50:58.400000\n",
      "2021-02-22 20:50:59.400000\n",
      "2021-02-22 20:51:00.400000\n",
      "2021-02-22 20:51:01.400000\n",
      "2021-02-22 20:51:02.400000\n",
      "2021-02-22 20:51:03.400000\n",
      "2021-02-22 20:51:04.400000\n",
      "2021-02-22 20:51:05.500000\n",
      "2021-02-22 20:51:06.500000\n",
      "2021-02-22 20:51:07.500000\n",
      "2021-02-22 20:51:08.500000\n",
      "2021-02-22 20:51:09.500000\n",
      "2021-02-22 20:51:10.500000\n",
      "2021-02-22 20:51:11.500000\n",
      "2021-02-22 20:51:12.500000\n",
      "2021-02-22 20:51:13.500000\n",
      "2021-02-22 20:51:14.500000\n",
      "2021-02-22 20:51:15.500000\n",
      "2021-02-22 20:51:16.500000\n",
      "2021-02-22 20:51:17.500000\n",
      "2021-02-22 20:51:18.500000\n",
      "2021-02-22 20:51:19.500000\n",
      "2021-02-22 20:51:20.600000\n",
      "2021-02-22 20:51:21.600000\n",
      "2021-02-22 20:51:22.600000\n",
      "2021-02-22 20:51:23.600000\n",
      "2021-02-22 20:51:24.600000\n",
      "2021-02-22 20:51:25.600000\n",
      "2021-02-22 20:51:26.600000\n",
      "2021-02-22 20:51:27.600000\n",
      "2021-02-22 20:51:28.600000\n",
      "2021-02-22 20:51:29.600000\n",
      "2021-02-22 20:51:30.600000\n",
      "2021-02-22 20:51:31.600000\n",
      "2021-02-22 20:51:32.600000\n",
      "2021-02-22 20:51:33.600000\n",
      "2021-02-22 20:51:34.600000\n",
      "2021-02-22 20:51:35.700000\n",
      "2021-02-22 20:51:36.700000\n",
      "2021-02-22 20:51:37.700000\n",
      "2021-02-22 20:51:38.700000\n",
      "2021-02-22 20:51:39.700000\n",
      "2021-02-22 20:51:40.700000\n",
      "2021-02-22 20:51:41.700000\n",
      "2021-02-22 20:51:42.700000\n",
      "2021-02-22 20:51:43.700000\n",
      "2021-02-22 20:51:44.700000\n",
      "2021-02-22 20:51:45.700000\n"
     ]
    }
   ],
   "source": [
    "filelist, index = make_filelist(OBS, \"2021-02-22T20:48:37-20:51:47\")\n",
    "for fi_ind in index:\n",
    "    print(fi_ind)"
   ]
  },
  {
   "cell_type": "code",
   "execution_count": 13,
   "metadata": {},
   "outputs": [],
   "source": [
    "SLICE = \"2021-02-22T21:06:37-21:09:47\"\n",
    "OBS = \"202102222045\""
   ]
  },
  {
   "cell_type": "code",
   "execution_count": 14,
   "metadata": {},
   "outputs": [
    {
     "name": "stdout",
     "output_type": "stream",
     "text": [
      "len file list 182\n"
     ]
    }
   ],
   "source": [
    "filelist, index = make_filelist(OBS, SLICE)"
   ]
  },
  {
   "cell_type": "code",
   "execution_count": 24,
   "metadata": {},
   "outputs": [
    {
     "data": {
      "text/plain": [
       "Float64Index([ 48.828125, 51.3671875, 52.1484375, 53.3203125,  54.296875,\n",
       "                55.46875,   57.03125,    57.8125, 58.3984375,  60.546875,\n",
       "               62.109375,  62.890625, 63.8671875,  64.453125, 65.4296875,\n",
       "                69.53125],\n",
       "             dtype='float64')"
      ]
     },
     "execution_count": 24,
     "metadata": {},
     "output_type": "execute_result"
    }
   ],
   "source": [
    "filelist.keys().astype(\"float\")"
   ]
  },
  {
   "cell_type": "code",
   "execution_count": 28,
   "metadata": {},
   "outputs": [
    {
     "data": {
      "text/plain": [
       "160"
      ]
     },
     "execution_count": 28,
     "metadata": {},
     "output_type": "execute_result"
    }
   ],
   "source": [
    "len(get_ddfilelist(filelist, filelist.keys().astype(\"float\"), index[100], 0, integration=10))"
   ]
  },
  {
   "cell_type": "code",
   "execution_count": 15,
   "metadata": {},
   "outputs": [
    {
     "name": "stdout",
     "output_type": "stream",
     "text": [
      "16 subbands in /zfs/helios/filer0/mkuiack1/202012131700/SB*.vis\n"
     ]
    }
   ],
   "source": [
    "# OBS = 202012131700#sys.argv[1] #\"202012032122\"\n",
    "\n",
    "subbands = np.array(sorted([os.path.basename(x)[2:5] for x in  glob.glob(\"/zfs/helios/filer0/mkuiack1/{}/SB*.vis\".format(OBS)) ]), dtype=int)\n",
    "\n",
    "print len(subbands), \"subbands in\", \"/zfs/helios/filer0/mkuiack1/{}/SB*.vis\".format(OBS)\n",
    "if len(subbands) == 0:\n",
    "    print \"/zfs/helios/filer0/mkuiack1/{}/SB*.vis\".format(OBS)\n",
    "    sys.exit()\n",
    "\n",
    "\n",
    "# subbands = np.array([281, 284, 287, 291, 294, 298, 301, 304, \n",
    "#                      308, 311, 315, 318, 321, 325, 328, 332])\n",
    "\n",
    "# subbands = np.array([156, 165, 174, 187, 195, 213, 221, 231,\n",
    "#                      243, 256, 257, 267, 278, 284, 296, 320])\n",
    "\n",
    "# OBS = \"202012032122\""
   ]
  },
  {
   "cell_type": "code",
   "execution_count": 25,
   "metadata": {},
   "outputs": [
    {
     "name": "stdout",
     "output_type": "stream",
     "text": [
      "156\n",
      "165\n",
      "174\n",
      "187\n",
      "195\n",
      "213\n",
      "221\n",
      "231\n",
      "243\n",
      "250\n",
      "257\n",
      "267\n",
      "278\n",
      "284\n",
      "296\n",
      "320\n"
     ]
    }
   ],
   "source": [
    "# SLICE = \"2020-12-13T17:02:01-17:05:11\"\n",
    "\n",
    "filelist = pd.DataFrame([])\n",
    "\n",
    "for i in range(len(subbands)):\n",
    "    \n",
    "    if subbands[i] == 256:\n",
    "        continue \n",
    "\n",
    "    print subbands[i]\n",
    "    index = pd.to_datetime([os.path.basename(x)[:21]\n",
    "                            for x in sorted(glob.glob(\"/zfs/helios/filer0/mkuiack1/{}/{}_all/SB\".format(OBS, SLICE)\n",
    "                                                      +str(subbands[i])\n",
    "                                                      +\"*/imgs/*.fits\"))]).round(\"1s\")\n",
    "    \n",
    "    df = pd.DataFrame({str(get_freq(subbands[i])):\\\n",
    "                       sorted(glob.glob(\"/zfs/helios/filer0/mkuiack1/{}/{}_all/SB\".format(OBS, SLICE)\n",
    "                                        +str(subbands[i])\n",
    "                                        +\"*/imgs/*.fits\"))},\n",
    "                      index=index)\n",
    "    \n",
    "    \n",
    "    filelist = pd.concat([filelist, df.loc[~df.index.duplicated(keep='first')]], axis=1)"
   ]
  },
  {
   "cell_type": "code",
   "execution_count": 5,
   "metadata": {},
   "outputs": [
    {
     "name": "stdout",
     "output_type": "stream",
     "text": [
      "len file list 182\n"
     ]
    }
   ],
   "source": [
    "SLICE = \"2020-12-14T02:02:01-02:05:11*\"\n",
    "OBS = \"202012140200\"\n",
    "\n",
    "filelist, index = make_filelist(OBS, SLICE)"
   ]
  },
  {
   "cell_type": "code",
   "execution_count": 37,
   "metadata": {
    "scrolled": false
   },
   "outputs": [
    {
     "name": "stdout",
     "output_type": "stream",
     "text": [
      "mkdir: cannot create directory ‘/hddstore/mkuiack1/png’: File exists\r\n"
     ]
    }
   ],
   "source": [
    "\n",
    "_out = Parallel(n_jobs=6)(delayed(make_frame)(fi_ind) for fi_ind in index)"
   ]
  },
  {
   "cell_type": "code",
   "execution_count": 38,
   "metadata": {},
   "outputs": [
    {
     "data": {
      "text/plain": [
       "0"
      ]
     },
     "execution_count": 38,
     "metadata": {},
     "output_type": "execute_result"
    }
   ],
   "source": [
    "subprocess.call([\"rsync\", \"--remove-source-files\", \n",
    "                 \"-av\", \"/hddstore/mkuiack1/png\", \n",
    "                 \"/zfs/helios/filer0/mkuiack1/{}/png\".format(OBS)])"
   ]
  },
  {
   "cell_type": "code",
   "execution_count": 28,
   "metadata": {},
   "outputs": [
    {
     "ename": "TypeError",
     "evalue": "Index(...) must be called with a collection of some kind, Timestamp('2020-12-12 20:20:20') was passed",
     "output_type": "error",
     "traceback": [
      "\u001b[0;31m---------------------------------------------------------------------------\u001b[0m",
      "\u001b[0;31mTypeError\u001b[0m                                 Traceback (most recent call last)",
      "\u001b[0;32m<ipython-input-28-2d02934f1b61>\u001b[0m in \u001b[0;36m<module>\u001b[0;34m()\u001b[0m\n\u001b[0;32m----> 1\u001b[0;31m \u001b[0mpd\u001b[0m\u001b[0;34m.\u001b[0m\u001b[0mDataFrame\u001b[0m\u001b[0;34m(\u001b[0m\u001b[0mnp\u001b[0m\u001b[0;34m.\u001b[0m\u001b[0marray\u001b[0m\u001b[0;34m(\u001b[0m\u001b[0;34m[\u001b[0m\u001b[0;36m0.1\u001b[0m\u001b[0;34m,\u001b[0m\u001b[0;36m0.3\u001b[0m\u001b[0;34m,\u001b[0m\u001b[0;36m0.5\u001b[0m\u001b[0;34m]\u001b[0m\u001b[0;34m)\u001b[0m\u001b[0;34m.\u001b[0m\u001b[0mT\u001b[0m\u001b[0;34m,\u001b[0m\u001b[0mcolumns\u001b[0m\u001b[0;34m=\u001b[0m\u001b[0;34m[\u001b[0m\u001b[0;36m1\u001b[0m\u001b[0;34m,\u001b[0m\u001b[0;36m2\u001b[0m\u001b[0;34m,\u001b[0m\u001b[0;36m3\u001b[0m\u001b[0;34m]\u001b[0m\u001b[0;34m,\u001b[0m \u001b[0mindex\u001b[0m\u001b[0;34m=\u001b[0m\u001b[0mpd\u001b[0m\u001b[0;34m.\u001b[0m\u001b[0mto_datetime\u001b[0m\u001b[0;34m(\u001b[0m\u001b[0;34m\"2020-12-12 20:20:20\"\u001b[0m\u001b[0;34m)\u001b[0m\u001b[0;34m)\u001b[0m\u001b[0;34m\u001b[0m\u001b[0m\n\u001b[0m",
      "\u001b[0;32m/home/mkuiack1/env/lib/python2.7/site-packages/pandas/core/frame.pyc\u001b[0m in \u001b[0;36m__init__\u001b[0;34m(self, data, index, columns, dtype, copy)\u001b[0m\n\u001b[1;32m    422\u001b[0m             \u001b[0;32melse\u001b[0m\u001b[0;34m:\u001b[0m\u001b[0;34m\u001b[0m\u001b[0m\n\u001b[1;32m    423\u001b[0m                 mgr = init_ndarray(data, index, columns, dtype=dtype,\n\u001b[0;32m--> 424\u001b[0;31m                                    copy=copy)\n\u001b[0m\u001b[1;32m    425\u001b[0m \u001b[0;34m\u001b[0m\u001b[0m\n\u001b[1;32m    426\u001b[0m         \u001b[0;31m# For data is list-like, or Iterable (will consume into list)\u001b[0m\u001b[0;34m\u001b[0m\u001b[0;34m\u001b[0m\u001b[0m\n",
      "\u001b[0;32m/home/mkuiack1/env/lib/python2.7/site-packages/pandas/core/internals/construction.pyc\u001b[0m in \u001b[0;36minit_ndarray\u001b[0;34m(values, index, columns, dtype, copy)\u001b[0m\n\u001b[1;32m    156\u001b[0m                 \u001b[0mraise_with_traceback\u001b[0m\u001b[0;34m(\u001b[0m\u001b[0me\u001b[0m\u001b[0;34m)\u001b[0m\u001b[0;34m\u001b[0m\u001b[0m\n\u001b[1;32m    157\u001b[0m \u001b[0;34m\u001b[0m\u001b[0m\n\u001b[0;32m--> 158\u001b[0;31m     \u001b[0mindex\u001b[0m\u001b[0;34m,\u001b[0m \u001b[0mcolumns\u001b[0m \u001b[0;34m=\u001b[0m \u001b[0m_get_axes\u001b[0m\u001b[0;34m(\u001b[0m\u001b[0;34m*\u001b[0m\u001b[0mvalues\u001b[0m\u001b[0;34m.\u001b[0m\u001b[0mshape\u001b[0m\u001b[0;34m,\u001b[0m \u001b[0mindex\u001b[0m\u001b[0;34m=\u001b[0m\u001b[0mindex\u001b[0m\u001b[0;34m,\u001b[0m \u001b[0mcolumns\u001b[0m\u001b[0;34m=\u001b[0m\u001b[0mcolumns\u001b[0m\u001b[0;34m)\u001b[0m\u001b[0;34m\u001b[0m\u001b[0m\n\u001b[0m\u001b[1;32m    159\u001b[0m     \u001b[0mvalues\u001b[0m \u001b[0;34m=\u001b[0m \u001b[0mvalues\u001b[0m\u001b[0;34m.\u001b[0m\u001b[0mT\u001b[0m\u001b[0;34m\u001b[0m\u001b[0m\n\u001b[1;32m    160\u001b[0m \u001b[0;34m\u001b[0m\u001b[0m\n",
      "\u001b[0;32m/home/mkuiack1/env/lib/python2.7/site-packages/pandas/core/internals/construction.pyc\u001b[0m in \u001b[0;36m_get_axes\u001b[0;34m(N, K, index, columns)\u001b[0m\n\u001b[1;32m    368\u001b[0m         \u001b[0mindex\u001b[0m \u001b[0;34m=\u001b[0m \u001b[0mibase\u001b[0m\u001b[0;34m.\u001b[0m\u001b[0mdefault_index\u001b[0m\u001b[0;34m(\u001b[0m\u001b[0mN\u001b[0m\u001b[0;34m)\u001b[0m\u001b[0;34m\u001b[0m\u001b[0m\n\u001b[1;32m    369\u001b[0m     \u001b[0;32melse\u001b[0m\u001b[0;34m:\u001b[0m\u001b[0;34m\u001b[0m\u001b[0m\n\u001b[0;32m--> 370\u001b[0;31m         \u001b[0mindex\u001b[0m \u001b[0;34m=\u001b[0m \u001b[0mensure_index\u001b[0m\u001b[0;34m(\u001b[0m\u001b[0mindex\u001b[0m\u001b[0;34m)\u001b[0m\u001b[0;34m\u001b[0m\u001b[0m\n\u001b[0m\u001b[1;32m    371\u001b[0m \u001b[0;34m\u001b[0m\u001b[0m\n\u001b[1;32m    372\u001b[0m     \u001b[0;32mif\u001b[0m \u001b[0mcolumns\u001b[0m \u001b[0;32mis\u001b[0m \u001b[0mNone\u001b[0m\u001b[0;34m:\u001b[0m\u001b[0;34m\u001b[0m\u001b[0m\n",
      "\u001b[0;32m/home/mkuiack1/env/lib/python2.7/site-packages/pandas/core/indexes/base.pyc\u001b[0m in \u001b[0;36mensure_index\u001b[0;34m(index_like, copy)\u001b[0m\n\u001b[1;32m   5376\u001b[0m             \u001b[0mindex_like\u001b[0m \u001b[0;34m=\u001b[0m \u001b[0mcopy\u001b[0m\u001b[0;34m(\u001b[0m\u001b[0mindex_like\u001b[0m\u001b[0;34m)\u001b[0m\u001b[0;34m\u001b[0m\u001b[0m\n\u001b[1;32m   5377\u001b[0m \u001b[0;34m\u001b[0m\u001b[0m\n\u001b[0;32m-> 5378\u001b[0;31m     \u001b[0;32mreturn\u001b[0m \u001b[0mIndex\u001b[0m\u001b[0;34m(\u001b[0m\u001b[0mindex_like\u001b[0m\u001b[0;34m)\u001b[0m\u001b[0;34m\u001b[0m\u001b[0m\n\u001b[0m\u001b[1;32m   5379\u001b[0m \u001b[0;34m\u001b[0m\u001b[0m\n\u001b[1;32m   5380\u001b[0m \u001b[0;34m\u001b[0m\u001b[0m\n",
      "\u001b[0;32m/home/mkuiack1/env/lib/python2.7/site-packages/pandas/core/indexes/base.pyc\u001b[0m in \u001b[0;36m__new__\u001b[0;34m(cls, data, dtype, copy, name, fastpath, tupleize_cols, **kwargs)\u001b[0m\n\u001b[1;32m    466\u001b[0m                          **kwargs)\n\u001b[1;32m    467\u001b[0m         \u001b[0;32melif\u001b[0m \u001b[0mdata\u001b[0m \u001b[0;32mis\u001b[0m \u001b[0mNone\u001b[0m \u001b[0;32mor\u001b[0m \u001b[0mis_scalar\u001b[0m\u001b[0;34m(\u001b[0m\u001b[0mdata\u001b[0m\u001b[0;34m)\u001b[0m\u001b[0;34m:\u001b[0m\u001b[0;34m\u001b[0m\u001b[0m\n\u001b[0;32m--> 468\u001b[0;31m             \u001b[0mcls\u001b[0m\u001b[0;34m.\u001b[0m\u001b[0m_scalar_data_error\u001b[0m\u001b[0;34m(\u001b[0m\u001b[0mdata\u001b[0m\u001b[0;34m)\u001b[0m\u001b[0;34m\u001b[0m\u001b[0m\n\u001b[0m\u001b[1;32m    469\u001b[0m         \u001b[0;32melse\u001b[0m\u001b[0;34m:\u001b[0m\u001b[0;34m\u001b[0m\u001b[0m\n\u001b[1;32m    470\u001b[0m             \u001b[0;32mif\u001b[0m \u001b[0mtupleize_cols\u001b[0m \u001b[0;32mand\u001b[0m \u001b[0mis_list_like\u001b[0m\u001b[0;34m(\u001b[0m\u001b[0mdata\u001b[0m\u001b[0;34m)\u001b[0m\u001b[0;34m:\u001b[0m\u001b[0;34m\u001b[0m\u001b[0m\n",
      "\u001b[0;32m/home/mkuiack1/env/lib/python2.7/site-packages/pandas/core/indexes/base.pyc\u001b[0m in \u001b[0;36m_scalar_data_error\u001b[0;34m(cls, data)\u001b[0m\n\u001b[1;32m   3797\u001b[0m         raise TypeError('{0}(...) must be called with a collection of some '\n\u001b[1;32m   3798\u001b[0m                         'kind, {1} was passed'.format(cls.__name__,\n\u001b[0;32m-> 3799\u001b[0;31m                                                       repr(data)))\n\u001b[0m\u001b[1;32m   3800\u001b[0m \u001b[0;34m\u001b[0m\u001b[0m\n\u001b[1;32m   3801\u001b[0m     \u001b[0;34m@\u001b[0m\u001b[0mclassmethod\u001b[0m\u001b[0;34m\u001b[0m\u001b[0m\n",
      "\u001b[0;31mTypeError\u001b[0m: Index(...) must be called with a collection of some kind, Timestamp('2020-12-12 20:20:20') was passed"
     ]
    }
   ],
   "source": [
    "pd.DataFrame(np.array([0.1,0.3,0.5]).T,columns=[1,2,3], index=pd.to_datetime(\"2020-12-12 20:20:20\"))"
   ]
  },
  {
   "cell_type": "code",
   "execution_count": 7,
   "metadata": {},
   "outputs": [
    {
     "data": {
      "text/plain": [
       "array([156, 165, 174, 187, 195, 213, 221, 231, 243, 250, 257, 267, 278,\n",
       "       284, 296, 320])"
      ]
     },
     "execution_count": 7,
     "metadata": {},
     "output_type": "execute_result"
    }
   ],
   "source": [
    " subbands"
   ]
  },
  {
   "cell_type": "code",
   "execution_count": null,
   "metadata": {
    "scrolled": true
   },
   "outputs": [
    {
     "name": "stdout",
     "output_type": "stream",
     "text": [
      "mkdir: cannot create directory ‘/hddstore/mkuiack1/png’: File exists\n",
      "2021-01-03T13:47:01-13:50:11\n",
      "len file list 174\n"
     ]
    }
   ],
   "source": [
    "!mkdir /hddstore/mkuiack1/png\n",
    "\n",
    "# \"2020-12-13T17:17:01-17:20:11\", \n",
    "#                \"2020-12-13T17:20:01-17:23:11\",\n",
    "#                \"2020-12-13T17:23:01-17:26:11\",\n",
    "#                \"20b20-12-13T17:26:01-17:29:11\",\n",
    "#                \"2020-12-13T17:29:01-17:32:11\"\n",
    "# SLICE = \"2020-12-13T17:14:01-17:17:11\"\n",
    "\n",
    "for OBS in [\"202101031339\"]:\n",
    "    subbands = np.array(sorted([os.path.basename(x)[2:5] \n",
    "                                for x in  glob.glob(\"/zfs/helios/filer0/mkuiack1/{}/SB*.vis\".format(OBS)) ]),\n",
    "                        dtype=int)\n",
    "\n",
    "    if len(subbands) == 0:\n",
    "        print \"/zfs/helios/filer0/mkuiack1/{}/SB*.vis\".format(OBS)\n",
    "        sys.exit()\n",
    "\n",
    "    for _slice in [\n",
    "\"2021-01-03T13:47:01-13:50:11\",\n",
    "\"2021-01-03T13:50:01-13:53:11\",\n",
    "\"2021-01-03T13:53:01-13:56:11\",\n",
    "\"2021-01-03T13:56:01-13:59:11\",\n",
    "\"2021-01-03T13:59:01-14:02:11\",\n",
    "\"2021-01-03T14:02:01-14:05:11\",\n",
    "\"2021-01-03T14:05:01-14:08:11\",\n",
    "\"2021-01-03T14:08:01-14:11:11\",\n",
    "\"2021-01-03T14:11:01-14:14:11\",\n",
    "\"2021-01-03T14:14:01-14:17:11\",\n",
    "\"2021-01-03T14:17:01-14:20:11\",\n",
    "\"2021-01-03T14:20:01-14:23:11\",\n",
    "\"2021-01-03T14:23:01-14:26:11\",\n",
    "\"2021-01-03T14:26:01-14:29:11\",\n",
    "\"2021-01-03T14:29:01-14:32:11\",\n",
    "\"2021-01-03T14:32:01-14:35:11\"]:\n",
    "        print _slice\n",
    "        filelist, index = make_filelist(OBS, _slice)\n",
    "\n",
    "        _out = Parallel(n_jobs=6)(delayed(make_frame)(fi_ind) for fi_ind in index)\n",
    "\n",
    "        subprocess.call([\"rsync\", \"--remove-source-files\",\n",
    "                         \"-av\", \"/hddstore/mkuiack1/png\",\n",
    "                         \"/zfs/helios/filer0/mkuiack1/{}/png\".format(OBS)])\n",
    "\n",
    "    print \"Done.\""
   ]
  },
  {
   "cell_type": "code",
   "execution_count": null,
   "metadata": {},
   "outputs": [],
   "source": [
    "[\"2021-01-03T13:41:01-13:44:11\",\n",
    "\"2021-01-03T13:44:01-13:47:11\",\n",
    "\"2021-01-03T13:47:01-13:50:11\",\n",
    "\"2021-01-03T13:50:01-13:53:11\",\n",
    "\"2021-01-03T13:53:01-13:56:11\",\n",
    "\"2021-01-03T13:56:01-13:59:11\",\n",
    "\"2021-01-03T13:59:01-14:02:11\",\n",
    "\"2021-01-03T14:02:01-14:05:11\",\n",
    "\"2021-01-03T14:05:01-14:08:11\",\n",
    "\"2021-01-03T14:08:01-14:11:11\",\n",
    "\"2021-01-03T14:11:01-14:14:11\",\n",
    "\"2021-01-03T14:14:01-14:17:11\",\n",
    "\"2021-01-03T14:17:01-14:20:11\",\n",
    "\"2021-01-03T14:20:01-14:23:11\",\n",
    "\"2021-01-03T14:23:01-14:26:11\",\n",
    "\"2021-01-03T14:26:01-14:29:11\",\n",
    "\"2021-01-03T14:29:01-14:32:11\",\n",
    "\"2021-01-03T14:32:01-14:35:11\"]"
   ]
  },
  {
   "cell_type": "code",
   "execution_count": null,
   "metadata": {},
   "outputs": [
    {
     "name": "stdout",
     "output_type": "stream",
     "text": [
      "mkdir: cannot create directory ‘/hddstore/mkuiack1/png’: File exists\n",
      "16 subbands in /zfs/helios/filer0/mkuiack1/202101040500/SB*.vis\n",
      "2021-01-??T??:02:01-??:05:11\n",
      "len file list 182\n",
      "2021-01-??T??:05:01-??:08:11\n",
      "len file list 182\n",
      "2021-01-??T??:08:01-??:11:11\n",
      "len file list 174\n"
     ]
    }
   ],
   "source": [
    "!mkdir /hddstore/mkuiack1/png\n",
    "import time \n",
    "\n",
    "\n",
    "for OBS in [\"202101040500\",\"202101040400\",\"202101040300\",\"202101032000\",\"202101040000\"]:\n",
    "    t1 = time.time()\n",
    "    subbands = np.array(sorted([os.path.basename(x)[2:5] \n",
    "                                for x in  glob.glob(\"/zfs/helios/filer0/mkuiack1/{}/SB*.vis\".format(OBS)) ]),\n",
    "                        dtype=int)\n",
    "\n",
    "    print len(subbands), \"subbands in\", \"/zfs/helios/filer0/mkuiack1/{}/SB*.vis\".format(OBS)\n",
    "    if len(subbands) == 0:\n",
    "        print \"/zfs/helios/filer0/mkuiack1/{}/SB*.vis\".format(OBS)\n",
    "        sys.exit()\n",
    "\n",
    "\n",
    "\n",
    "    for _slice in [\"2021-01-??T??:02:01-??:05:11\",\n",
    "                   \"2021-01-??T??:05:01-??:08:11\",\n",
    "                   \"2021-01-??T??:08:01-??:11:11\",\n",
    "                   \"2021-01-??T??:11:01-??:14:11\",\n",
    "                   \"2021-01-??T??:14:01-??:17:11\",\n",
    "                   \"2021-01-??T??:17:01-??:20:11\",\n",
    "                   \"2021-01-??T??:20:01-??:23:11\",\n",
    "                   \"2021-01-??T??:23:01-??:26:11\",\n",
    "                   \"2021-01-??T??:26:01-??:29:11\",\n",
    "                   \"2021-01-??T??:29:01-??:32:11\",\n",
    "                   \"2021-01-??T??:32:01-??:35:11\",\n",
    "                   \"2021-01-??T??:35:01-??:38:11\",\n",
    "                   \"2021-01-??T??:38:01-??:41:11\",\n",
    "                   \"2021-01-??T??:41:01-??:44:11\",\n",
    "                   \"2021-01-??T??:44:01-??:47:11\",\n",
    "                   \"2021-01-??T??:47:01-??:50:11\",\n",
    "                   \"2021-01-??T??:50:01-??:53:11\",\n",
    "                   \"2021-01-??T??:53:01-??:56:11\"]:\n",
    "        print _slice\n",
    "\n",
    "        filelist, index = make_filelist(OBS, _slice)\n",
    "\n",
    "        with Parallel(n_jobs=9) as parallel:\n",
    "            _out = parallel(delayed(make_frame)(fi_ind)\n",
    "                                      for fi_ind in index)\n",
    "\n",
    "        subprocess.call([\"rsync\", \"--remove-source-files\",\n",
    "                     \"-av\", \"/hddstore/mkuiack1/png\",\n",
    "                     \"/zfs/helios/filer0/mkuiack1/{}/png\".format(OBS)])\n",
    "\n",
    "    print \"Done.\", OBS, round(t1-time.time(), 2)"
   ]
  },
  {
   "cell_type": "code",
   "execution_count": 7,
   "metadata": {},
   "outputs": [],
   "source": [
    "    for _slice in [\"2021-01-??T??:02:01-??:05:11\",\n",
    "                   \"2021-01-??T??:05:01-??:08:11\",\n",
    "                   \"2021-01-??T??:08:01-??:11:11\",\n",
    "                   \"2021-01-??T??:11:01-??:14:11\",\n",
    "                   \"2021-01-??T??:14:01-??:17:11\",\n",
    "                   \"2021-01-??T??:17:01-??:20:11\",\n",
    "                   \"2021-01-??T??:20:01-??:23:11\",\n",
    "                   \"2021-01-??T??:23:01-??:26:11\",\n",
    "                   \"2021-01-??T??:26:01-??:29:11\",\n",
    "                   \"2021-01-??T??:29:01-??:32:11\",\n",
    "                   \"2021-01-??T??:32:01-??:35:11\",\n",
    "                   \"2021-01-??T??:35:01-??:38:11\",\n",
    "                   \"2021-01-??T??:38:01-??:41:11\",\n",
    "                   \"2021-01-??T??:41:01-??:44:11\",\n",
    "                   \"2021-01-??T??:44:01-??:47:11\",\n",
    "                   \"2021-01-??T??:47:01-??:50:11\",\n",
    "                   \"2021-01-??T??:50:01-??:53:11\",\n",
    "                   \"2021-01-??T??:53:01-??:56:11\"]:\n",
    "\n",
    "[\"2020-12-1?T??:02:01-??:05:11\",\n",
    "                   \"2020-12-1?T??:05:01-??:08:11\",\n",
    "                   \"2020-12-1?T??:08:01-??:11:11\",\n",
    "                   \"2020-12-1?T??:14:01-??:17:11\",\n",
    "                   \"2020-12-1?T??:17:01-??:20:11\",\n",
    "                   \"2020-12-1?T??:20:01-??:23:11\",\n",
    "                   \"2020-12-1?T??:23:01-??:26:11\",\n",
    "                   \"2020-12-1?T??:26:01-??:29:11\",\n",
    "                   \"2020-12-1?T??:29:01-??:32:11\",\n",
    "                   \"2020-12-1?T??:32:01-??:35:11\",\n",
    "                   \"2020-12-1?T??:35:01-??:38:11\",\n",
    "                   \"2020-12-1?T??:38:01-??:41:11\",\n",
    "                   \"2020-12-1?T??:41:01-??:44:11\",\n",
    "                   \"2020-12-1?T??:44:01-??:47:11\",\n",
    "                   \"2020-12-1?T??:47:01-??:50:11\",\n",
    "                   \"2020-12-1?T??:50:01-??:53:11\",\n",
    "                   \"2020-12-1?T??:53:01-??:56:11\"]\n",
    "\n",
    "OBS = \"202012032122\"\n",
    "\n",
    "\"2020-12-04T00:30:39-00:33:49\",\n",
    "\"2020-12-04T00:33:39-00:36:49\",\n",
    "\"2020-12-04T00:36:39-00:39:49\",\n",
    "\"2020-12-04T00:39:39-00:42:49\",\n",
    "\"2020-12-04T00:42:39-00:45:49\",\n",
    "\"2020-12-04T00:45:39-00:48:49\",\n",
    "\"2020-12-04T00:48:39-00:51:49\",\n",
    "\"2020-12-04T00:51:39-00:54:49\",\n",
    "\"2020-12-04T00:54:39-00:57:49\",\n",
    "\"2020-12-04T00:57:39-01:00:49\",\n",
    "\"2020-12-04T01:00:39-01:03:49\",\n",
    "\"2020-12-04T01:03:39-01:06:49\",\n",
    "\"2020-12-04T01:06:39-01:09:49\",\n",
    "\"2020-12-04T01:09:39-01:12:49\",\n",
    "\"2020-12-04T01:12:39-01:15:49\",\n",
    "\"2020-12-04T01:15:39-01:18:49\",\n",
    "\"2020-12-04T01:18:39-01:21:49\",\n",
    "\"2020-12-04T01:21:39-01:24:49\",\n",
    "\"2020-12-04T01:24:39-01:27:49\",\n",
    "\"2020-12-04T01:27:39-01:30:49\",\n",
    "\"2020-12-04T01:30:39-01:33:49\",\n",
    "\"2020-12-04T01:33:39-01:36:49\",\n",
    "\"2020-12-04T01:36:39-01:39:49\",\n",
    "\"2020-12-04T01:39:39-01:42:49\",\n",
    "\"2020-12-04T01:42:39-01:45:49\",\n",
    "\"2020-12-04T01:45:39-01:48:49\",\n",
    "\"2020-12-04T01:48:39-01:51:49\",\n",
    "\"2020-12-04T01:51:39-01:54:49\",\n",
    "\"2020-12-04T01:54:39-01:57:49\",\n",
    "\"2020-12-04T01:57:39-02:00:49\",\n",
    "\"2020-12-04T02:00:39-02:03:49\",\n",
    "\"2020-12-04T02:03:39-02:06:49\",\n",
    "\"2020-12-04T02:06:39-02:09:49\",\n",
    "\"2020-12-04T02:09:39-02:12:49\",\n",
    "\"2020-12-04T02:12:39-02:15:49\",\n",
    "\"2020-12-04T02:15:39-02:18:49\",\n",
    "\"2020-12-04T02:27:39-02:30:49\",\n",
    "\"2020-12-04T02:18:39-02:21:49\",\n",
    "\"2020-12-04T02:21:39-02:24:49\",\n",
    "\"2020-12-04T02:30:39-02:33:49\",\n",
    "\"2020-12-04T02:24:39-02:27:49\",\n",
    "\n"
   ]
  },
  {
   "cell_type": "code",
   "execution_count": 7,
   "metadata": {
    "scrolled": true
   },
   "outputs": [
    {
     "name": "stdout",
     "output_type": "stream",
     "text": [
      "2020-12-14 02:04:49\n"
     ]
    },
    {
     "name": "stderr",
     "output_type": "stream",
     "text": [
      "/home/mkuiack1/env/lib/python2.7/site-packages/ipykernel_launcher.py:41: RuntimeWarning: divide by zero encountered in divide\n",
      "/home/mkuiack1/env/lib/python2.7/site-packages/numpy/core/_methods.py:75: RuntimeWarning: invalid value encountered in reduce\n",
      "  ret = umr_sum(arr, axis, dtype, out, keepdims)\n"
     ]
    },
    {
     "data": {
      "text/plain": [
       "0"
      ]
     },
     "execution_count": 7,
     "metadata": {},
     "output_type": "execute_result"
    }
   ],
   "source": [
    "subbands = np.array(sorted([os.path.basename(x)[2:5] \n",
    "                            for x in  glob.glob(\"/zfs/helios/filer0/mkuiack1/{}/SB*.vis\".format(OBS)) ]),\n",
    "                    dtype=int)\n",
    "\n",
    "\n",
    "make_frame(pd.to_datetime('2020-12-14 02:04:49'))"
   ]
  },
  {
   "cell_type": "code",
   "execution_count": 27,
   "metadata": {},
   "outputs": [
    {
     "name": "stdout",
     "output_type": "stream",
     "text": [
      "2020-12-14 02:03:49\n"
     ]
    },
    {
     "name": "stderr",
     "output_type": "stream",
     "text": [
      "/home/mkuiack1/env/lib/python2.7/site-packages/ipykernel_launcher.py:41: RuntimeWarning: divide by zero encountered in divide\n"
     ]
    }
   ],
   "source": [
    "# OBS = \"202012140200\"\n",
    "# # OBS = \"202012032122\"\n",
    "# subbands = np.array(sorted([os.path.basename(x)[2:5] \n",
    "#                             for x in  glob.glob(\"/zfs/helios/filer0/mkuiack1/{}/SB*.vis\".format(OBS)) ]),\n",
    "#                     dtype=int)\n",
    "# SLICE = \"2020-12-14T02:02:01-02:05:11*\"\n",
    "\n",
    "image = make_frame(pd.to_datetime('2020-12-14 02:03:49'))\n",
    "\n"
   ]
  },
  {
   "cell_type": "code",
   "execution_count": 28,
   "metadata": {},
   "outputs": [
    {
     "data": {
      "text/plain": [
       "(2300, 2300)"
      ]
     },
     "execution_count": 28,
     "metadata": {},
     "output_type": "execute_result"
    }
   ],
   "source": [
    "np.shape(image)"
   ]
  },
  {
   "cell_type": "code",
   "execution_count": 29,
   "metadata": {},
   "outputs": [
    {
     "data": {
      "text/plain": [
       "<matplotlib.image.AxesImage at 0x7faff0613550>"
      ]
     },
     "execution_count": 29,
     "metadata": {},
     "output_type": "execute_result"
    }
   ],
   "source": [
    "# import matplotlib.image as mpimg\n",
    "# import matplotlib.pyplot as plt\n",
    "\n",
    "# matplotlib.use('TkAgg')\n",
    "\n",
    "# Read Images \n",
    "plt.figure(figsize=(10,10))\n",
    "# img = mpimg.imread('/hddstore/mkuiack1/png/2020-12-13T17:33:25.1.png') \n",
    "  \n",
    "# Output Images \n",
    "plt.imshow(image) \n"
   ]
  },
  {
   "cell_type": "code",
   "execution_count": 40,
   "metadata": {},
   "outputs": [
    {
     "name": "stdout",
     "output_type": "stream",
     "text": [
      "len file list 524\n"
     ]
    }
   ],
   "source": [
    "SLICE = \"2020-12-13T21:1*\"\n",
    "OBS = \"202012132100\"\n",
    "\n",
    "filelist, index = make_filelist(OBS, SLICE)"
   ]
  },
  {
   "cell_type": "code",
   "execution_count": 37,
   "metadata": {},
   "outputs": [
    {
     "data": {
      "text/plain": [
       "['/zfs/helios/filer0/mkuiack1/202012132100/2020-12-13T21:08:01-21:11:11_all/SB156-2020-12-13T21:08:01-21:11:11/imgs/2020-12-13T21:10:37.4-SB156.fits',\n",
       " '/zfs/helios/filer0/mkuiack1/202012132100/2020-12-13T21:08:01-21:11:11_all/SB165-2020-12-13T21:08:01-21:11:11/imgs/2020-12-13T21:10:37.4-SB165.fits',\n",
       " '/zfs/helios/filer0/mkuiack1/202012132100/2020-12-13T21:08:01-21:11:11_all/SB174-2020-12-13T21:08:01-21:11:11/imgs/2020-12-13T21:10:37.4-SB174.fits',\n",
       " '/zfs/helios/filer0/mkuiack1/202012132100/2020-12-13T21:08:01-21:11:11_all/SB187-2020-12-13T21:08:01-21:11:11/imgs/2020-12-13T21:10:37.4-SB187.fits',\n",
       " '/zfs/helios/filer0/mkuiack1/202012132100/2020-12-13T21:08:01-21:11:11_all/SB195-2020-12-13T21:08:01-21:11:11/imgs/2020-12-13T21:10:37.4-SB195.fits',\n",
       " '/zfs/helios/filer0/mkuiack1/202012132100/2020-12-13T21:08:01-21:11:11_all/SB213-2020-12-13T21:08:01-21:11:11/imgs/2020-12-13T21:10:37.4-SB213.fits',\n",
       " '/zfs/helios/filer0/mkuiack1/202012132100/2020-12-13T21:08:01-21:11:11_all/SB221-2020-12-13T21:08:01-21:11:11/imgs/2020-12-13T21:10:37.4-SB221.fits',\n",
       " '/zfs/helios/filer0/mkuiack1/202012132100/2020-12-13T21:08:01-21:11:11_all/SB231-2020-12-13T21:08:01-21:11:11/imgs/2020-12-13T21:10:37.4-SB231.fits',\n",
       " '/zfs/helios/filer0/mkuiack1/202012132100/2020-12-13T21:08:01-21:11:11_all/SB243-2020-12-13T21:08:01-21:11:11/imgs/2020-12-13T21:10:37.4-SB243.fits',\n",
       " '/zfs/helios/filer0/mkuiack1/202012132100/2020-12-13T21:08:01-21:11:11_all/SB250-2020-12-13T21:08:01-21:11:11/imgs/2020-12-13T21:10:37.4-SB250.fits',\n",
       " '/zfs/helios/filer0/mkuiack1/202012132100/2020-12-13T21:08:01-21:11:11_all/SB257-2020-12-13T21:08:01-21:11:11/imgs/2020-12-13T21:10:37.4-SB257.fits',\n",
       " '/zfs/helios/filer0/mkuiack1/202012132100/2020-12-13T21:08:01-21:11:11_all/SB267-2020-12-13T21:08:01-21:11:11/imgs/2020-12-13T21:10:37.4-SB267.fits',\n",
       " '/zfs/helios/filer0/mkuiack1/202012132100/2020-12-13T21:08:01-21:11:11_all/SB278-2020-12-13T21:08:01-21:11:11/imgs/2020-12-13T21:10:37.4-SB278.fits',\n",
       " '/zfs/helios/filer0/mkuiack1/202012132100/2020-12-13T21:08:01-21:11:11_all/SB284-2020-12-13T21:08:01-21:11:11/imgs/2020-12-13T21:10:37.4-SB284.fits',\n",
       " '/zfs/helios/filer0/mkuiack1/202012132100/2020-12-13T21:08:01-21:11:11_all/SB296-2020-12-13T21:08:01-21:11:11/imgs/2020-12-13T21:10:37.4-SB296.fits',\n",
       " '/zfs/helios/filer0/mkuiack1/202012132100/2020-12-13T21:08:01-21:11:11_all/SB320-2020-12-13T21:08:01-21:11:11/imgs/2020-12-13T21:10:37.4-SB320.fits']"
      ]
     },
     "execution_count": 37,
     "metadata": {},
     "output_type": "execute_result"
    }
   ],
   "source": [
    "get_ddfilelist(filelist, get_freq(subbands), fi_ind, 0)"
   ]
  },
  {
   "cell_type": "code",
   "execution_count": 8,
   "metadata": {},
   "outputs": [
    {
     "name": "stderr",
     "output_type": "stream",
     "text": [
      "/home/mkuiack1/env/lib/python2.7/site-packages/ipykernel_launcher.py:26: RuntimeWarning: divide by zero encountered in divide\n"
     ]
    }
   ],
   "source": [
    "fi_ind = '2020-12-14 02:04:49'\n",
    "\n",
    "im_stack = np.zeros([2300, 2300])\n",
    "all_freqs = []\n",
    "slice_times = []\n",
    "all_std = []\n",
    "count = 0 \n",
    "im_stack = []\n",
    "\n",
    "for img_file in get_ddfilelist(filelist, get_freq(subbands), fi_ind, 0):\n",
    "\n",
    "        try:\n",
    "            data, f=fits.getdata(img_file, header=True)\n",
    "        except IOError:\n",
    "            print \"IOError\", img_file\n",
    "            continue\n",
    "\n",
    "        STD = np.std(data[0,0,:,:])\n",
    "        \n",
    "        slice_times.append(f[\"DATE-OBS\"])\n",
    "        all_freqs.append(f[\" CRVAL3\"]/1e6)\n",
    "\n",
    "        beam_model = get_beam(f[\" CRVAL3\"]/1e6)\n",
    "\n",
    "        if STD < 80. and STD > 3.:\n",
    "            im_stack.append(data[0,0,:,:]/np.abs(np.median(data[0,0,500:1500,500:1500]))*(np.max(beam_model)/beam_model))\n",
    "\n",
    "if len(im_stack) == 0:\n",
    "    print \"no good image in \", fi_ind\n",
    "\n",
    "\n",
    "# hdul = fits.open(img_file)\n",
    "# prihdr = hdul[0].header\n",
    "\n",
    "# prihdr.update({'RESTFRQ':np.mean(all_freqs)*1e6})\n",
    "# prihdr.update({'RESTFREQ':np.mean(all_freqs)*1e6})\n",
    "# prihdr.update({'RESTBW':hdul[0].header['CDELT3']*len(all_freqs)})\n",
    "# prihdr.update({'BANDS':\",\".join(np.array([round(x,2) for x in all_freqs], dtype=str))})\n",
    "# prihdr.update({'DATE-OBS':min(slice_times)})\n",
    "\n",
    "# hdul[0].data[0,0,:,:] = np.median(np.array(im_stack), axis=0)\n",
    "# print \"/home/mkuiack1/{}_nSB{}.fits\".format(slice_times[0],int(len(all_freqs)))\n",
    "# hdul.writeto(\"/home/mkuiack1/{}_nSB{}.fits\".format(slice_times[0],int(len(all_freqs)))) \n",
    "# print \"done.\""
   ]
  },
  {
   "cell_type": "code",
   "execution_count": 17,
   "metadata": {},
   "outputs": [
    {
     "data": {
      "text/plain": [
       "'56.23,34.23,23.34,23.32,23.23'"
      ]
     },
     "execution_count": 17,
     "metadata": {},
     "output_type": "execute_result"
    }
   ],
   "source": [
    "\",\".join(np.array([round(x,2) for x in [56.2342,34.2342,23.34345,23.3245,23.234]], dtype=str))"
   ]
  },
  {
   "cell_type": "code",
   "execution_count": 11,
   "metadata": {},
   "outputs": [],
   "source": [
    "plt.figure()\n",
    "plt.imshow(np.median(np.array(im_stack), axis=0)) \n",
    "plt.show()"
   ]
  },
  {
   "cell_type": "code",
   "execution_count": null,
   "metadata": {},
   "outputs": [],
   "source": []
  },
  {
   "cell_type": "code",
   "execution_count": 7,
   "metadata": {},
   "outputs": [
    {
     "name": "stdout",
     "output_type": "stream",
     "text": [
      "16\n"
     ]
    }
   ],
   "source": [
    "basedir = \"/zfs/helios/filer0/mkuiack1/202101032100\"\n",
    "\n",
    "img_files = glob.glob(basedir+\"/2021-01-03T21:02:01-21:05:11_all/SB*/imgs/2021-01-03T21:02:31*\")\n",
    "print len(img_files)"
   ]
  },
  {
   "cell_type": "code",
   "execution_count": 8,
   "metadata": {},
   "outputs": [
    {
     "name": "stderr",
     "output_type": "stream",
     "text": [
      "/home/mkuiack1/env/lib/python2.7/site-packages/ipykernel_launcher.py:24: RuntimeWarning: divide by zero encountered in divide\n"
     ]
    }
   ],
   "source": [
    "\n",
    "all_freqs = []\n",
    "slice_times = []\n",
    "all_std = []\n",
    "count = 0 \n",
    "im_stack = []\n",
    "\n",
    "for img_file in img_files:\n",
    "\n",
    "        try:\n",
    "            data, f=fits.getdata(img_file, header=True)\n",
    "        except IOError:\n",
    "            print \"IOError\", img_file\n",
    "            continue\n",
    "\n",
    "        STD = np.std(data[0,0,:,:])\n",
    "        \n",
    "        slice_times.append(f[\"DATE-OBS\"])\n",
    "        all_freqs.append(f[\" CRVAL3\"]/1e6)\n",
    "\n",
    "        beam_model = get_beam(f[\" CRVAL3\"]/1e6)\n",
    "\n",
    "#         if STD < 80. and STD > 3.:\n",
    "        im_stack.append(data[0,0,:,:]/np.abs(np.median(data[0,0,500:1500,500:1500]))*(np.max(beam_model)/beam_model))\n",
    "\n",
    "    "
   ]
  },
  {
   "cell_type": "code",
   "execution_count": 11,
   "metadata": {},
   "outputs": [],
   "source": [
    "fig = plt.figure(figsize=(10.8, 10.8))\n",
    "ax = plt.subplot(111)\n",
    "\n",
    "img = np.median(np.array(im_stack), axis=0)\n",
    "\n",
    "vmin, vmax= ZScaleInterval(contrast=0.4).get_limits(img)\n",
    "\n",
    "imgmap = plt.imshow(img, origin=\"lower\",\n",
    "           vmin=vmin, vmax=vmax)\n",
    "\n",
    "plt.text(.01,.98, f[\"DATE-OBS\"], va=\"top\", ha=\"left\",\n",
    "         fontsize=16, color=\"white\", transform=ax.transAxes,)\n",
    "\n",
    "plt.text(.01,.95, \"nSB: {}\".format(len(all_freqs)), va=\"top\", ha=\"left\",\n",
    "         fontsize=16, color=\"white\", transform=ax.transAxes,)\n",
    "\n",
    "\n",
    "imgmap.cmap.set_bad('k',1.)\n",
    "ax.patch.set_facecolor('k')\n",
    "\n",
    "plt.xticks([])\n",
    "plt.yticks([])\n",
    "plt.tight_layout()\n",
    "plt.show()"
   ]
  }
 ],
 "metadata": {
  "kernelspec": {
   "display_name": "Python 3",
   "language": "python",
   "name": "python3"
  },
  "language_info": {
   "codemirror_mode": {
    "name": "ipython",
    "version": 3
   },
   "file_extension": ".py",
   "mimetype": "text/x-python",
   "name": "python",
   "nbconvert_exporter": "python",
   "pygments_lexer": "ipython3",
   "version": "3.6.3"
  }
 },
 "nbformat": 4,
 "nbformat_minor": 2
}
