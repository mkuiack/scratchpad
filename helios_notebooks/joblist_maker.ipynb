{
 "cells": [
  {
   "cell_type": "code",
   "execution_count": 1,
   "metadata": {},
   "outputs": [],
   "source": [
    "import pandas as pd \n",
    "import os\n",
    "import subprocess\n",
    "import glob\n"
   ]
  },
  {
   "cell_type": "code",
   "execution_count": null,
   "metadata": {},
   "outputs": [],
   "source": [
    "202007110323\n",
    "202007110426"
   ]
  },
  {
   "cell_type": "code",
   "execution_count": 20,
   "metadata": {},
   "outputs": [
    {
     "name": "stdout",
     "output_type": "stream",
     "text": [
      "CPU times: user 3.45 ms, sys: 7.07 ms, total: 10.5 ms\n",
      "Wall time: 48.7 s\n"
     ]
    }
   ],
   "source": [
    "%%time \n",
    "\n",
    "obs = \"202007110426\"\n",
    "\n",
    "process = subprocess.Popen(['/home/mkuiack1/bin/afedit', \n",
    "                            '-show-lst', \n",
    "                            '/opt/Archive/{}/SB332-{}-lba_outer.vis'.format(obs,obs)],\n",
    "                     stdout=subprocess.PIPE, \n",
    "                     stderr=subprocess.PIPE)\n",
    "stdout, stderr = process.communicate()\n",
    "stdout, stderr"
   ]
  },
  {
   "cell_type": "code",
   "execution_count": 21,
   "metadata": {},
   "outputs": [
    {
     "data": {
      "text/plain": [
       "'UTC range of observation: 2020-07-11T04:28:01.01 - 2020-07-11T05:24:59.53.\\nLST range of observation: 00h13m40.666s - 01h10m48.551s (in hours: 0.227963 - 1.18015).\\n'"
      ]
     },
     "execution_count": 21,
     "metadata": {},
     "output_type": "execute_result"
    }
   ],
   "source": [
    "stdout"
   ]
  },
  {
   "cell_type": "code",
   "execution_count": 22,
   "metadata": {},
   "outputs": [],
   "source": [
    "\n",
    "if len(stdout) > 1:\n",
    "    start, end =  pd.to_datetime(stdout[26:73].split(\" - \"))"
   ]
  },
  {
   "cell_type": "code",
   "execution_count": 23,
   "metadata": {},
   "outputs": [],
   "source": [
    "SLICES = pd.date_range(start.round(\"1s\")+pd.Timedelta(seconds=1), \n",
    "              end.round(\"1s\")+pd.Timedelta(seconds=1), freq=\"3min\")"
   ]
  },
  {
   "cell_type": "code",
   "execution_count": 24,
   "metadata": {},
   "outputs": [
    {
     "data": {
      "text/plain": [
       "DatetimeIndex(['2020-07-11 04:28:02', '2020-07-11 04:31:02',\n",
       "               '2020-07-11 04:34:02', '2020-07-11 04:37:02',\n",
       "               '2020-07-11 04:40:02', '2020-07-11 04:43:02',\n",
       "               '2020-07-11 04:46:02', '2020-07-11 04:49:02',\n",
       "               '2020-07-11 04:52:02', '2020-07-11 04:55:02',\n",
       "               '2020-07-11 04:58:02', '2020-07-11 05:01:02',\n",
       "               '2020-07-11 05:04:02', '2020-07-11 05:07:02',\n",
       "               '2020-07-11 05:10:02', '2020-07-11 05:13:02',\n",
       "               '2020-07-11 05:16:02', '2020-07-11 05:19:02',\n",
       "               '2020-07-11 05:22:02'],\n",
       "              dtype='datetime64[ns]', freq='3T')"
      ]
     },
     "execution_count": 24,
     "metadata": {},
     "output_type": "execute_result"
    }
   ],
   "source": [
    "SLICES"
   ]
  },
  {
   "cell_type": "code",
   "execution_count": 25,
   "metadata": {},
   "outputs": [],
   "source": [
    "SUBBANDS = [os.path.basename(x).split(\"-\")[0] \n",
    "            for x in glob.glob(\"/opt/Archive/{}/SB*vis\".format(obs))]"
   ]
  },
  {
   "cell_type": "code",
   "execution_count": 26,
   "metadata": {},
   "outputs": [
    {
     "name": "stdout",
     "output_type": "stream",
     "text": [
      "288\n"
     ]
    }
   ],
   "source": [
    "OBS_JOBS = pd.DataFrame([])\n",
    "\n",
    "for _slice in range(len(SLICES)-1):\n",
    "    for _subband in range(len(SUBBANDS)):\n",
    "        OBS_JOBS = pd.concat([OBS_JOBS, \n",
    "                              pd.DataFrame([SUBBANDS[_subband], obs,\n",
    "                                                      SLICES[_slice].strftime(\"%Y-%m-%dT%H:%M:%S\"), \n",
    "                                                      (SLICES[_slice+1]+pd.Timedelta(seconds=10))\n",
    "                                                      .strftime(\"%Y-%m-%dT%H:%M:%S\")]).T])\n",
    "    \n",
    "print len(OBS_JOBS)"
   ]
  },
  {
   "cell_type": "code",
   "execution_count": 27,
   "metadata": {},
   "outputs": [],
   "source": [
    "OBS_JOBS.to_csv(\"{}_JOBS.txt\".format(obs), index=False, header=False, sep=\" \")"
   ]
  },
  {
   "cell_type": "code",
   "execution_count": 97,
   "metadata": {},
   "outputs": [
    {
     "ename": "IndexError",
     "evalue": "list index out of range",
     "output_type": "error",
     "traceback": [
      "\u001b[0;31m---------------------------------------------------------------------------\u001b[0m",
      "\u001b[0;31mIndexError\u001b[0m                                Traceback (most recent call last)",
      "\u001b[0;32m<ipython-input-97-4432422927a9>\u001b[0m in \u001b[0;36m<module>\u001b[0;34m()\u001b[0m\n\u001b[0;32m----> 1\u001b[0;31m \u001b[0mSUBBANDS\u001b[0m\u001b[0;34m[\u001b[0m\u001b[0;36m16\u001b[0m\u001b[0;34m]\u001b[0m\u001b[0;34m\u001b[0m\u001b[0;34m\u001b[0m\u001b[0m\n\u001b[0m",
      "\u001b[0;31mIndexError\u001b[0m: list index out of range"
     ]
    }
   ],
   "source": []
  },
  {
   "cell_type": "code",
   "execution_count": 99,
   "metadata": {},
   "outputs": [
    {
     "data": {
      "text/plain": [
       "[0, 1, 2, 3, 4, 5, 6, 7, 8, 9, 10, 11, 12, 13, 14, 15, 16, 17, 18]"
      ]
     },
     "execution_count": 99,
     "metadata": {},
     "output_type": "execute_result"
    }
   ],
   "source": [
    "range(len(SLICES)-1)"
   ]
  },
  {
   "cell_type": "code",
   "execution_count": null,
   "metadata": {},
   "outputs": [],
   "source": []
  }
 ],
 "metadata": {
  "kernelspec": {
   "display_name": "Python 2",
   "language": "python",
   "name": "python2"
  },
  "language_info": {
   "codemirror_mode": {
    "name": "ipython",
    "version": 2
   },
   "file_extension": ".py",
   "mimetype": "text/x-python",
   "name": "python",
   "nbconvert_exporter": "python",
   "pygments_lexer": "ipython2",
   "version": "2.7.15+"
  }
 },
 "nbformat": 4,
 "nbformat_minor": 2
}
