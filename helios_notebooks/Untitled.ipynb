{
 "cells": [
  {
   "cell_type": "code",
   "execution_count": 88,
   "metadata": {},
   "outputs": [],
   "source": [
    "import os\n",
    "import fnmatch\n",
    "import glob\n",
    "import pandas as pd\n",
    "import numpy as np\n",
    "\n",
    "def rglob(directory, pattern):\n",
    "    matches = []\n",
    "    for root, _, filenames in os.walk(directory):\n",
    "        for filename in fnmatch.filter(filenames, pattern):\n",
    "            matches.append(os.path.join(root, filename))\n",
    "\n",
    "    return matches"
   ]
  },
  {
   "cell_type": "code",
   "execution_count": null,
   "metadata": {},
   "outputs": [],
   "source": [
    "rglob(\"b\")"
   ]
  },
  {
   "cell_type": "code",
   "execution_count": 9,
   "metadata": {},
   "outputs": [
    {
     "name": "stdout",
     "output_type": "stream",
     "text": [
      "The slowest run took 9.87 times longer than the fastest. This could mean that an intermediate result is being cached.\n",
      "1 loop, best of 3: 502 ms per loop\n"
     ]
    }
   ],
   "source": [
    "%%timeit\n",
    "\n",
    "glob.glob(\"/zfs/helios/filer0/mkuiack1/202008122000/*all/SB*/imgs/2020-08-13T00:16:37.6*\")"
   ]
  },
  {
   "cell_type": "code",
   "execution_count": 15,
   "metadata": {},
   "outputs": [],
   "source": [
    "oout  = glob.glob(\"/zfs/helios/filer0/mkuiack1/202008122000/*all/SB*/imgs/2020-08-13T00:16:3[7,8]*\")"
   ]
  },
  {
   "cell_type": "code",
   "execution_count": 79,
   "metadata": {},
   "outputs": [
    {
     "data": {
      "text/plain": [
       "['/zfs/helios/filer0/mkuiack1/202008122000/2020-08-13T00:15:00-00:18:10_all/SB185-2020-08-13T00:15:00-00:18:10/imgs/2020-08-13T00:16:38.6-SB185.fits',\n",
       " '/zfs/helios/filer0/mkuiack1/202008122000/2020-08-13T00:15:00-00:18:10_all/SB195-2020-08-13T00:15:00-00:18:10/imgs/2020-08-13T00:16:37.6-SB195.fits',\n",
       " '/zfs/helios/filer0/mkuiack1/202008122000/2020-08-13T00:15:00-00:18:10_all/SB319-2020-08-13T00:15:00-00:18:10/imgs/2020-08-13T00:16:38.6-SB319.fits',\n",
       " '/zfs/helios/filer0/mkuiack1/202008122000/2020-08-13T00:15:00-00:18:10_all/SB194-2020-08-13T00:15:00-00:18:10/imgs/2020-08-13T00:16:38.6-SB194.fits',\n",
       " '/zfs/helios/filer0/mkuiack1/202008122000/2020-08-13T00:15:00-00:18:10_all/SB186-2020-08-13T00:15:00-00:18:10/imgs/2020-08-13T00:16:37.6-SB186.fits',\n",
       " '/zfs/helios/filer0/mkuiack1/202008122000/2020-08-13T00:15:00-00:18:10_all/SB320-2020-08-13T00:15:00-00:18:10/imgs/2020-08-13T00:16:38.6-SB320.fits',\n",
       " '/zfs/helios/filer0/mkuiack1/202008122000/2020-08-13T00:15:00-00:18:10_all/SB212-2020-08-13T00:15:00-00:18:10/imgs/2020-08-13T00:16:38.6-SB212.fits',\n",
       " '/zfs/helios/filer0/mkuiack1/202008122000/2020-08-13T00:15:00-00:18:10_all/SB237-2020-08-13T00:15:00-00:18:10/imgs/2020-08-13T00:16:38.6-SB237.fits',\n",
       " '/zfs/helios/filer0/mkuiack1/202008122000/2020-08-13T00:15:00-00:18:10_all/SB256-2020-08-13T00:15:00-00:18:10/imgs/2020-08-13T00:16:38.6-SB256.fits',\n",
       " '/zfs/helios/filer0/mkuiack1/202008122000/2020-08-13T00:15:00-00:18:10_all/SB213-2020-08-13T00:15:00-00:18:10/imgs/2020-08-13T00:16:38.6-SB213.fits',\n",
       " '/zfs/helios/filer0/mkuiack1/202008122000/2020-08-13T00:15:00-00:18:10_all/SB238-2020-08-13T00:15:00-00:18:10/imgs/2020-08-13T00:16:38.6-SB238.fits',\n",
       " '/zfs/helios/filer0/mkuiack1/202008122000/2020-08-13T00:15:00-00:18:10_all/SB236-2020-08-13T00:15:00-00:18:10/imgs/2020-08-13T00:16:38.6-SB236.fits',\n",
       " '/zfs/helios/filer0/mkuiack1/202008122000/2020-08-13T00:15:00-00:18:10_all/SB166-2020-08-13T00:15:00-00:18:10/imgs/2020-08-13T00:16:38.6-SB166.fits',\n",
       " '/zfs/helios/filer0/mkuiack1/202008122000/2020-08-13T00:15:00-00:18:10_all/SB235-2020-08-13T00:15:00-00:18:10/imgs/2020-08-13T00:16:38.6-SB235.fits',\n",
       " '/zfs/helios/filer0/mkuiack1/202008122000/2020-08-13T00:15:00-00:18:10_all/SB255-2020-08-13T00:15:00-00:18:10/imgs/2020-08-13T00:16:38.6-SB255.fits',\n",
       " '/zfs/helios/filer0/mkuiack1/202008122000/2020-08-13T00:15:00-00:18:10_all/SB167-2020-08-13T00:15:00-00:18:10/imgs/2020-08-13T00:16:37.6-SB167.fits']"
      ]
     },
     "execution_count": 79,
     "metadata": {},
     "output_type": "execute_result"
    }
   ],
   "source": [
    "oout"
   ]
  },
  {
   "cell_type": "code",
   "execution_count": 63,
   "metadata": {},
   "outputs": [],
   "source": [
    "x = pd.read_csv(\"selected_fitsnames.csv\",  \n",
    "            parse_dates=[\"datetime\"]).loc[0].dt.round(\"1s\")\n",
    "\n"
   ]
  },
  {
   "cell_type": "code",
   "execution_count": 82,
   "metadata": {},
   "outputs": [
    {
     "data": {
      "text/plain": [
       "datetime   2020-08-13 00:11:22\n",
       "Name: 0, dtype: datetime64[ns]"
      ]
     },
     "execution_count": 82,
     "metadata": {},
     "output_type": "execute_result"
    }
   ],
   "source": [
    "x"
   ]
  },
  {
   "cell_type": "code",
   "execution_count": 85,
   "metadata": {},
   "outputs": [],
   "source": [
    "datetimes = pd.read_csv(\"selected_fitsnames.csv\",  \n",
    "            parse_dates=[\"datetime\"]).datetime#.loc[0].dt.strftime(\"%Y-%M-%dT%H:%m:%S\").values[0]"
   ]
  },
  {
   "cell_type": "code",
   "execution_count": 81,
   "metadata": {},
   "outputs": [
    {
     "data": {
      "text/plain": [
       "'2020-11-13T00:08:23'"
      ]
     },
     "execution_count": 81,
     "metadata": {},
     "output_type": "execute_result"
    }
   ],
   "source": [
    "(pd.to_timedelta(1, unit='s')+pd.read_csv(\"selected_fitsnames.csv\",  \n",
    "            parse_dates=[\"datetime\"]).loc[0]).dt.strftime(\"%Y-%M-%dT%H:%m:%S\").values[0]"
   ]
  },
  {
   "cell_type": "code",
   "execution_count": 172,
   "metadata": {
    "scrolled": true
   },
   "outputs": [
    {
     "name": "stdout",
     "output_type": "stream",
     "text": [
      "2020-08-13 00:17:27.900000 3\n",
      "2020-08-13 00:12:23.900000 3\n"
     ]
    }
   ],
   "source": [
    "alldates = np.array([])\n",
    "\n",
    "for x in pd.read_csv(\"selected_fitsnames.csv\",\n",
    "                     parse_dates=[\"datetime\"]).datetime:\n",
    "    \n",
    "    timestep = x.strftime(\"%Y-%m-%dT%H:%M:%S\")\n",
    "    \n",
    "    imgs1  = glob.glob(\"/zfs/helios/filer0/mkuiack1/202008122000/*all/SB*/imgs/{}*\".format(timestep))\n",
    "    \n",
    "    if len(imgs1) == 16:\n",
    "        alldates = np.append(alldates, imgs1)\n",
    "        continue\n",
    "    elif len(imgs1) > 16:\n",
    "        alldates = np.append(alldates, sorted(imgs1)[:16])\n",
    "        continue\n",
    "\n",
    "    step_imgs = np.array(imgs1)\n",
    "\n",
    "    timestep2 = (pd.to_timedelta(1, unit='s')+x).strftime(\"%Y-%m-%dT%H:%M:%S\")\n",
    "    imgs2  = glob.glob(\"/zfs/helios/filer0/mkuiack1/202008122000/*all/SB*/imgs/{}*\".format(timestep2))\n",
    "\n",
    "    step_imgs = np.append(step_imgs, imgs2)\n",
    " \n",
    "    if len(step_imgs) > 13 :\n",
    "        alldates = np.append(alldates, sorted(step_imgs)[:16])\n",
    "        continue\n",
    "\n",
    "    else:\n",
    "        timestep = x.strftime(\"%Y-%m-%dT%H:%M:%S\")\n",
    "        imgs1  = glob.glob(\"/zfs/helios/filer0/mkuiack1/202008122000/*all/SB*/imgs/{}*\".format(timestep))\n",
    "        print x, len(imgs1)\n",
    "        alldates = np.append(alldates, imgs1)"
   ]
  },
  {
   "cell_type": "code",
   "execution_count": 176,
   "metadata": {},
   "outputs": [
    {
     "data": {
      "text/plain": [
       "['/zfs/helios/filer0/mkuiack1/202008122000/2020-08-13T00:12:00-00:15:10_all/SB166-2020-08-13T00:12:00-00:15:10/imgs/2020-08-13T00:12:22.9-SB166.fits',\n",
       " '/zfs/helios/filer0/mkuiack1/202008122000/2020-08-13T00:12:00-00:15:10_all/SB185-2020-08-13T00:12:00-00:15:10/imgs/2020-08-13T00:12:22.9-SB185.fits',\n",
       " '/zfs/helios/filer0/mkuiack1/202008122000/2020-08-13T00:12:00-00:15:10_all/SB194-2020-08-13T00:12:00-00:15:10/imgs/2020-08-13T00:12:22.9-SB194.fits',\n",
       " '/zfs/helios/filer0/mkuiack1/202008122000/2020-08-13T00:12:00-00:15:10_all/SB212-2020-08-13T00:12:00-00:15:10/imgs/2020-08-13T00:12:22.9-SB212.fits',\n",
       " '/zfs/helios/filer0/mkuiack1/202008122000/2020-08-13T00:12:00-00:15:10_all/SB213-2020-08-13T00:12:00-00:15:10/imgs/2020-08-13T00:12:22.9-SB213.fits',\n",
       " '/zfs/helios/filer0/mkuiack1/202008122000/2020-08-13T00:12:00-00:15:10_all/SB235-2020-08-13T00:12:00-00:15:10/imgs/2020-08-13T00:12:22.9-SB235.fits',\n",
       " '/zfs/helios/filer0/mkuiack1/202008122000/2020-08-13T00:12:00-00:15:10_all/SB236-2020-08-13T00:12:00-00:15:10/imgs/2020-08-13T00:12:22.9-SB236.fits',\n",
       " '/zfs/helios/filer0/mkuiack1/202008122000/2020-08-13T00:12:00-00:15:10_all/SB237-2020-08-13T00:12:00-00:15:10/imgs/2020-08-13T00:12:22.9-SB237.fits',\n",
       " '/zfs/helios/filer0/mkuiack1/202008122000/2020-08-13T00:12:00-00:15:10_all/SB238-2020-08-13T00:12:00-00:15:10/imgs/2020-08-13T00:12:22.9-SB238.fits',\n",
       " '/zfs/helios/filer0/mkuiack1/202008122000/2020-08-13T00:12:00-00:15:10_all/SB255-2020-08-13T00:12:00-00:15:10/imgs/2020-08-13T00:12:22.9-SB255.fits',\n",
       " '/zfs/helios/filer0/mkuiack1/202008122000/2020-08-13T00:12:00-00:15:10_all/SB256-2020-08-13T00:12:00-00:15:10/imgs/2020-08-13T00:12:22.9-SB256.fits',\n",
       " '/zfs/helios/filer0/mkuiack1/202008122000/2020-08-13T00:12:00-00:15:10_all/SB319-2020-08-13T00:12:00-00:15:10/imgs/2020-08-13T00:12:22.9-SB319.fits',\n",
       " '/zfs/helios/filer0/mkuiack1/202008122000/2020-08-13T00:12:00-00:15:10_all/SB320-2020-08-13T00:12:00-00:15:10/imgs/2020-08-13T00:12:22.9-SB320.fits']"
      ]
     },
     "execution_count": 176,
     "metadata": {},
     "output_type": "execute_result"
    }
   ],
   "source": [
    "sorted(glob.glob(\"/zfs/helios/filer0/mkuiack1/202008122000/*all/SB*/imgs/{}*\".format(\"2020-08-13T00:12:22\")))"
   ]
  },
  {
   "cell_type": "code",
   "execution_count": 170,
   "metadata": {},
   "outputs": [
    {
     "data": {
      "text/plain": [
       "['/zfs/helios/filer0/mkuiack1/202008122000/2020-08-13T01:45:00-01:48:10_all/SB186-2020-08-13T01:45:00-01:48:10/imgs/2020-08-13T01:46:42.2-SB186.fits',\n",
       " '/zfs/helios/filer0/mkuiack1/202008122000/2020-08-13T01:45:00-01:48:10_all/SB194-2020-08-13T01:45:00-01:48:10/imgs/2020-08-13T01:46:42.2-SB194.fits',\n",
       " '/zfs/helios/filer0/mkuiack1/202008122000/2020-08-13T01:45:00-01:48:10_all/SB212-2020-08-13T01:45:00-01:48:10/imgs/2020-08-13T01:46:42.2-SB212.fits',\n",
       " '/zfs/helios/filer0/mkuiack1/202008122000/2020-08-13T01:45:00-01:48:10_all/SB213-2020-08-13T01:45:00-01:48:10/imgs/2020-08-13T01:46:42.2-SB213.fits',\n",
       " '/zfs/helios/filer0/mkuiack1/202008122000/2020-08-13T01:45:00-01:48:10_all/SB235-2020-08-13T01:45:00-01:48:10/imgs/2020-08-13T01:46:42.2-SB235.fits',\n",
       " '/zfs/helios/filer0/mkuiack1/202008122000/2020-08-13T01:45:00-01:48:10_all/SB237-2020-08-13T01:45:00-01:48:10/imgs/2020-08-13T01:46:42.2-SB237.fits',\n",
       " '/zfs/helios/filer0/mkuiack1/202008122000/2020-08-13T01:45:00-01:48:10_all/SB238-2020-08-13T01:45:00-01:48:10/imgs/2020-08-13T01:46:42.2-SB238.fits',\n",
       " '/zfs/helios/filer0/mkuiack1/202008122000/2020-08-13T01:45:00-01:48:10_all/SB255-2020-08-13T01:45:00-01:48:10/imgs/2020-08-13T01:46:42.2-SB255.fits',\n",
       " '/zfs/helios/filer0/mkuiack1/202008122000/2020-08-13T01:45:00-01:48:10_all/SB256-2020-08-13T01:45:00-01:48:10/imgs/2020-08-13T01:46:42.2-SB256.fits']"
      ]
     },
     "execution_count": 170,
     "metadata": {},
     "output_type": "execute_result"
    }
   ],
   "source": [
    "sorted(glob.glob(\"/zfs/helios/filer0/mkuiack1/202008122000/*all/SB*/imgs/{}*\".format(\"2020-08-13T01:46:42\")))"
   ]
  },
  {
   "cell_type": "code",
   "execution_count": 148,
   "metadata": {},
   "outputs": [
    {
     "data": {
      "text/plain": [
       "array(['/zfs/helios/filer0/mkuiack1/202008122000/2020-08-13T01:00:00-01:03:10_all/SB255-2020-08-13T01:00:00-01:03:10/imgs/2020-08-13T01:00:05.8-SB255.fits',\n",
       "       '/zfs/helios/filer0/mkuiack1/202008122000/2020-08-13T01:00:00-01:03:10_all/SB235-2020-08-13T01:00:00-01:03:10/imgs/2020-08-13T01:00:05.8-SB235.fits',\n",
       "       '/zfs/helios/filer0/mkuiack1/202008122000/2020-08-13T01:00:00-01:03:10_all/SB166-2020-08-13T01:00:00-01:03:10/imgs/2020-08-13T01:00:05.8-SB166.fits',\n",
       "       '/zfs/helios/filer0/mkuiack1/202008122000/2020-08-13T01:00:00-01:03:10_all/SB238-2020-08-13T01:00:00-01:03:10/imgs/2020-08-13T01:00:05.8-SB238.fits',\n",
       "       '/zfs/helios/filer0/mkuiack1/202008122000/2020-08-13T01:00:00-01:03:10_all/SB213-2020-08-13T01:00:00-01:03:10/imgs/2020-08-13T01:00:05.8-SB213.fits',\n",
       "       '/zfs/helios/filer0/mkuiack1/202008122000/2020-08-13T01:00:00-01:03:10_all/SB256-2020-08-13T01:00:00-01:03:10/imgs/2020-08-13T01:00:05.8-SB256.fits',\n",
       "       '/zfs/helios/filer0/mkuiack1/202008122000/2020-08-13T01:00:00-01:03:10_all/SB237-2020-08-13T01:00:00-01:03:10/imgs/2020-08-13T01:00:05.8-SB237.fits',\n",
       "       '/zfs/helios/filer0/mkuiack1/202008122000/2020-08-13T01:00:00-01:03:10_all/SB212-2020-08-13T01:00:00-01:03:10/imgs/2020-08-13T01:00:05.8-SB212.fits',\n",
       "       '/zfs/helios/filer0/mkuiack1/202008122000/2020-08-13T01:00:00-01:03:10_all/SB186-2020-08-13T01:00:00-01:03:10/imgs/2020-08-13T01:00:05.8-SB186.fits',\n",
       "       '/zfs/helios/filer0/mkuiack1/202008122000/2020-08-13T01:00:00-01:03:10_all/SB194-2020-08-13T01:00:00-01:03:10/imgs/2020-08-13T01:00:05.8-SB194.fits',\n",
       "       '/zfs/helios/filer0/mkuiack1/202008122000/2020-08-13T00:57:00-01:00:10_all/SB186-2020-08-13T00:57:00-01:00:10/imgs/2020-08-13T01:00:05.8-SB186.fits',\n",
       "       '/zfs/helios/filer0/mkuiack1/202008122000/2020-08-13T00:57:00-01:00:10_all/SB194-2020-08-13T00:57:00-01:00:10/imgs/2020-08-13T01:00:05.8-SB194.fits',\n",
       "       '/zfs/helios/filer0/mkuiack1/202008122000/2020-08-13T00:57:00-01:00:10_all/SB238-2020-08-13T00:57:00-01:00:10/imgs/2020-08-13T01:00:05.8-SB238.fits',\n",
       "       '/zfs/helios/filer0/mkuiack1/202008122000/2020-08-13T00:57:00-01:00:10_all/SB213-2020-08-13T00:57:00-01:00:10/imgs/2020-08-13T01:00:05.8-SB213.fits',\n",
       "       '/zfs/helios/filer0/mkuiack1/202008122000/2020-08-13T00:57:00-01:00:10_all/SB256-2020-08-13T00:57:00-01:00:10/imgs/2020-08-13T01:00:05.8-SB256.fits',\n",
       "       '/zfs/helios/filer0/mkuiack1/202008122000/2020-08-13T00:57:00-01:00:10_all/SB237-2020-08-13T00:57:00-01:00:10/imgs/2020-08-13T01:00:05.8-SB237.fits',\n",
       "       '/zfs/helios/filer0/mkuiack1/202008122000/2020-08-13T00:57:00-01:00:10_all/SB212-2020-08-13T00:57:00-01:00:10/imgs/2020-08-13T01:00:05.8-SB212.fits',\n",
       "       '/zfs/helios/filer0/mkuiack1/202008122000/2020-08-13T00:57:00-01:00:10_all/SB255-2020-08-13T00:57:00-01:00:10/imgs/2020-08-13T01:00:05.8-SB255.fits',\n",
       "       '/zfs/helios/filer0/mkuiack1/202008122000/2020-08-13T00:57:00-01:00:10_all/SB235-2020-08-13T00:57:00-01:00:10/imgs/2020-08-13T01:00:05.8-SB235.fits',\n",
       "       '/zfs/helios/filer0/mkuiack1/202008122000/2020-08-13T00:57:00-01:00:10_all/SB166-2020-08-13T00:57:00-01:00:10/imgs/2020-08-13T01:00:05.8-SB166.fits'],\n",
       "      dtype='|S146')"
      ]
     },
     "execution_count": 148,
     "metadata": {},
     "output_type": "execute_result"
    }
   ],
   "source": [
    "step_imgs"
   ]
  },
  {
   "cell_type": "code",
   "execution_count": 118,
   "metadata": {},
   "outputs": [],
   "source": [
    "\n",
    "x = np.append(x,imgs)"
   ]
  },
  {
   "cell_type": "code",
   "execution_count": 157,
   "metadata": {},
   "outputs": [
    {
     "data": {
      "text/plain": [
       "['/zfs/helios/filer0/mkuiack1/202008122000/2020-08-13T01:45:00-01:48:10_all/SB186-2020-08-13T01:45:00-01:48:10/imgs/2020-08-13T01:46:22.1-SB186.fits',\n",
       " '/zfs/helios/filer0/mkuiack1/202008122000/2020-08-13T01:45:00-01:48:10_all/SB194-2020-08-13T01:45:00-01:48:10/imgs/2020-08-13T01:46:22.1-SB194.fits',\n",
       " '/zfs/helios/filer0/mkuiack1/202008122000/2020-08-13T01:45:00-01:48:10_all/SB212-2020-08-13T01:45:00-01:48:10/imgs/2020-08-13T01:46:22.1-SB212.fits',\n",
       " '/zfs/helios/filer0/mkuiack1/202008122000/2020-08-13T01:45:00-01:48:10_all/SB213-2020-08-13T01:45:00-01:48:10/imgs/2020-08-13T01:46:22.1-SB213.fits']"
      ]
     },
     "execution_count": 157,
     "metadata": {},
     "output_type": "execute_result"
    }
   ],
   "source": [
    "sorted(imgs1)[:4]"
   ]
  },
  {
   "cell_type": "code",
   "execution_count": 183,
   "metadata": {},
   "outputs": [],
   "source": [
    "pd.DataFrame({\"files\":alldates}).to_csv(\"filelist.csv\", index=False)"
   ]
  },
  {
   "cell_type": "code",
   "execution_count": null,
   "metadata": {},
   "outputs": [],
   "source": [
    "pd.DataFrame({\"files\":alldates}).to_csv"
   ]
  },
  {
   "cell_type": "code",
   "execution_count": null,
   "metadata": {},
   "outputs": [],
   "source": [
    "pd.DataFrame(alldates).to_csv"
   ]
  },
  {
   "cell_type": "code",
   "execution_count": null,
   "metadata": {},
   "outputs": [],
   "source": []
  }
 ],
 "metadata": {
  "kernelspec": {
   "display_name": "Python 3",
   "language": "python",
   "name": "python3"
  },
  "language_info": {
   "codemirror_mode": {
    "name": "ipython",
    "version": 3
   },
   "file_extension": ".py",
   "mimetype": "text/x-python",
   "name": "python",
   "nbconvert_exporter": "python",
   "pygments_lexer": "ipython3",
   "version": "3.6.3"
  }
 },
 "nbformat": 4,
 "nbformat_minor": 2
}
