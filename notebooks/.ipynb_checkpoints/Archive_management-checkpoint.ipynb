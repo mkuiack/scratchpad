{
 "cells": [
  {
   "cell_type": "code",
   "execution_count": 1,
   "metadata": {},
   "outputs": [],
   "source": [
    "import datetime\n",
    "from astropy.time import Time\n",
    "import time\n",
    "import sys\n",
    "from subprocess import Popen\n",
    "import os\n",
    "import glob\n",
    "import numpy as np\n",
    "import pandas as pd"
   ]
  },
  {
   "cell_type": "code",
   "execution_count": 27,
   "metadata": {},
   "outputs": [],
   "source": [
    "# Production \n",
    "# PATH = \"/mnt/ais*/*.cal\"\n",
    "\n",
    "# Archive\n",
    "PATH = \"/mnt/nex*/data/vis_archive/*/*.cal\"\n",
    "\n",
    "# ls_resutls = os.popen(\"ls \"+PATH).read().split('\\n')[:-1]\n",
    "ls_resutls = glob.glob(PATH)\n",
    "\n",
    "end_times = [datetime.datetime.fromtimestamp(os.path.getmtime(x)) \\\n",
    "             for x in ls_resutls]\n",
    "\n",
    "start_times = [datetime.datetime.strptime(x, \"%Y%m%d%H%M%S\") \\\n",
    "               for x in [x.split(\"-\")[1][:-4] \\\n",
    "                         for x in ls_resutls]]\n",
    "\n",
    "\n",
    "for i in range(len(ls_resutls)):\n",
    "    if (end_times[i] - start_times[i]) < datetime.timedelta(minutes=30):\n",
    "    # Remove if data duration too short\n",
    "        print \"shorter than 30 min:\", ls_resutls[i]\n",
    "        Popen(\"rm \"+ls_resutls[i], shell=True)\n",
    "        continue \n",
    "\n",
    "    if os.path.getsize(ls_resutls[i]) == 0:\n",
    "    # Remove if file size 0 \n",
    "        print \"size 0:\", ls_resutls[i]\n",
    "        Popen(\"rm \"+ls_resutls[i], shell=True)\n",
    "\n"
   ]
  },
  {
   "cell_type": "code",
   "execution_count": 28,
   "metadata": {
    "collapsed": true
   },
   "outputs": [],
   "source": [
    "# Remove observations with less than 16 subbands \n",
    "\n",
    "# ls_resutls = os.popen(\"ls /mnt/ais*/*.cal\").read().split('\\n')[:-1]\n",
    "# ls_resutls = os.popen(\"ls /mnt/nex*/data/vis_archive/*/*.cal\").read().split('\\n')[:-1]\n",
    "\n",
    "ls_resutls = os.popen(\"ls \"+PATH).read().split('\\n')[:-1]\n",
    "\n",
    "obs = np.array([x.split('-')[1] for x in ls_resutls])\n",
    "unig_obs = np.unique(obs)\n",
    "\n",
    "for i in unig_obs:\n",
    "    if len(obs[(np.array(obs) == i)]) < 16:       \n",
    "        Popen(\"rm \"+PATH[:-4]+i, shell=True)\n",
    "#         print i, \"Removed\"\n",
    "        "
   ]
  },
  {
   "cell_type": "code",
   "execution_count": 42,
   "metadata": {},
   "outputs": [],
   "source": [
    "PATH = \"/mnt/nex*/data/vis_archive/*/*.cal\"\n",
    "ls_resutls = glob.glob(PATH)\n",
    "# print(ls_resutls)\n",
    "\n",
    "obs = np.array([x.split('-')[1] for x in ls_resutls])\n",
    "uniq_obs = np.unique(obs)"
   ]
  },
  {
   "cell_type": "code",
   "execution_count": 43,
   "metadata": {
    "scrolled": true
   },
   "outputs": [
    {
     "name": "stdout",
     "output_type": "stream",
     "text": [
      "removing: /mnt/nex*/data/vis_archive/*/*201611160827.cal\n",
      "removing: /mnt/nex*/data/vis_archive/*/*201702260100.cal\n",
      "removing: /mnt/nex*/data/vis_archive/*/*201702270100.cal\n",
      "removing: /mnt/nex*/data/vis_archive/*/*201702281535.cal\n",
      "removing: /mnt/nex*/data/vis_archive/*/*201703010100.cal\n",
      "removing: /mnt/nex*/data/vis_archive/*/*201703021205.cal\n",
      "removing: /mnt/nex*/data/vis_archive/*/*201703031347.cal\n",
      "removing: /mnt/nex*/data/vis_archive/*/*201703031358.cal\n",
      "removing: /mnt/nex*/data/vis_archive/*/*201703060044.cal\n",
      "removing: /mnt/nex*/data/vis_archive/*/*201703071727.cal\n",
      "removing: /mnt/nex*/data/vis_archive/*/*201703071738.cal\n",
      "removing: /mnt/nex*/data/vis_archive/*/*201703071900.cal\n",
      "removing: /mnt/nex*/data/vis_archive/*/*201703081740.cal\n",
      "removing: /mnt/nex*/data/vis_archive/*/*201703081756.cal\n",
      "removing: /mnt/nex*/data/vis_archive/*/*201703081812.cal\n",
      "removing: /mnt/nex*/data/vis_archive/*/*201703081828.cal\n",
      "removing: /mnt/nex*/data/vis_archive/*/*201703081844.cal\n",
      "removing: /mnt/nex*/data/vis_archive/*/*201703081900.cal\n",
      "removing: /mnt/nex*/data/vis_archive/*/*201703101732.cal\n",
      "removing: /mnt/nex*/data/vis_archive/*/*201703101748.cal\n",
      "removing: /mnt/nex*/data/vis_archive/*/*201703101804.cal\n",
      "removing: /mnt/nex*/data/vis_archive/*/*201703101820.cal\n",
      "removing: /mnt/nex*/data/vis_archive/*/*201703101836.cal\n",
      "removing: /mnt/nex*/data/vis_archive/*/*201703101852.cal\n",
      "removing: /mnt/nex*/data/vis_archive/*/*201703111728.cal\n",
      "removing: /mnt/nex*/data/vis_archive/*/*201703111744.cal\n",
      "removing: /mnt/nex*/data/vis_archive/*/*201703111800.cal\n",
      "removing: /mnt/nex*/data/vis_archive/*/*201703111816.cal\n",
      "removing: /mnt/nex*/data/vis_archive/*/*201703111832.cal\n",
      "removing: /mnt/nex*/data/vis_archive/*/*201703111848.cal\n",
      "removing: /mnt/nex*/data/vis_archive/*/*201703121724.cal\n",
      "removing: /mnt/nex*/data/vis_archive/*/*201703121740.cal\n",
      "removing: /mnt/nex*/data/vis_archive/*/*201703121756.cal\n",
      "removing: /mnt/nex*/data/vis_archive/*/*201703121828.cal\n",
      "removing: /mnt/nex*/data/vis_archive/*/*201703121844.cal\n",
      "removing: /mnt/nex*/data/vis_archive/*/*201703121926.cal\n",
      "removing: /mnt/nex*/data/vis_archive/*/*201703250044.cal\n",
      "removing: /mnt/nex*/data/vis_archive/*/*201703280909.cal\n",
      "removing: /mnt/nex*/data/vis_archive/*/*201703280920.cal\n",
      "removing: /mnt/nex*/data/vis_archive/*/*201703300902.cal\n",
      "removing: /mnt/nex*/data/vis_archive/*/*201706091030.cal\n",
      "removing: /mnt/nex*/data/vis_archive/*/*201706121429.cal\n",
      "removing: /mnt/nex*/data/vis_archive/*/*201706121435.cal\n",
      "removing: /mnt/nex*/data/vis_archive/*/*201706121454.cal\n",
      "removing: /mnt/nex*/data/vis_archive/*/*201706121942.cal\n",
      "removing: /mnt/nex*/data/vis_archive/*/*201706121953.cal\n",
      "removing: /mnt/nex*/data/vis_archive/*/*201706150031.cal\n",
      "removing: /mnt/nex*/data/vis_archive/*/*201706150042.cal\n",
      "removing: /mnt/nex*/data/vis_archive/*/*201706150923.cal\n",
      "removing: /mnt/nex*/data/vis_archive/*/*201706220037.cal\n",
      "removing: /mnt/nex*/data/vis_archive/*/*201706220053.cal\n",
      "removing: /mnt/nex*/data/vis_archive/*/*201706241631.cal\n",
      "removing: /mnt/nex*/data/vis_archive/*/*201706260924.cal\n",
      "removing: /mnt/nex*/data/vis_archive/*/*201706260936.cal\n",
      "removing: /mnt/nex*/data/vis_archive/*/*201706270831.cal\n",
      "removing: /mnt/nex*/data/vis_archive/*/*201706271724.cal\n",
      "removing: /mnt/nex*/data/vis_archive/*/*201706291223.cal\n",
      "removing: /mnt/nex*/data/vis_archive/*/*201706291350.cal\n",
      "removing: /mnt/nex*/data/vis_archive/*/*201707031937.cal\n",
      "removing: /mnt/nex*/data/vis_archive/*/*201707031948.cal\n",
      "removing: /mnt/nex*/data/vis_archive/*/*201707130857.cal\n",
      "removing: /mnt/nex*/data/vis_archive/*/*201707140932.cal\n",
      "removing: /mnt/nex*/data/vis_archive/*/*201707141157.cal\n",
      "removing: /mnt/nex*/data/vis_archive/*/*201707150957.cal\n",
      "removing: /mnt/nex*/data/vis_archive/*/*201707151154.cal\n",
      "removing: /mnt/nex*/data/vis_archive/*/*201707181033.cal\n",
      "removing: /mnt/nex*/data/vis_archive/*/*201707181353.cal\n",
      "removing: /mnt/nex*/data/vis_archive/*/*201707280158.cal\n",
      "removing: /mnt/nex*/data/vis_archive/*/*201707291030.cal\n",
      "removing: /mnt/nex*/data/vis_archive/*/*201707291232.cal\n",
      "removing: /mnt/nex*/data/vis_archive/*/*201707291333.cal\n",
      "removing: /mnt/nex*/data/vis_archive/*/*201707291434.cal\n",
      "removing: /mnt/nex*/data/vis_archive/*/*201707291535.cal\n",
      "removing: /mnt/nex*/data/vis_archive/*/*201707291636.cal\n",
      "removing: /mnt/nex*/data/vis_archive/*/*201707291737.cal\n",
      "removing: /mnt/nex*/data/vis_archive/*/*201708041450.cal\n",
      "removing: /mnt/nex*/data/vis_archive/*/*201708071055.cal\n",
      "removing: /mnt/nex*/data/vis_archive/*/*201708111435.cal\n",
      "removing: /mnt/nex*/data/vis_archive/*/*201708112347.cal\n",
      "removing: /mnt/nex*/data/vis_archive/*/*201708131132.cal\n",
      "removing: /mnt/nex*/data/vis_archive/*/*201708131233.cal\n",
      "removing: /mnt/nex*/data/vis_archive/*/*201708140930.cal\n",
      "removing: /mnt/nex*/data/vis_archive/*/*201708141135.cal\n",
      "removing: /mnt/nex*/data/vis_archive/*/*201708141145.cal\n",
      "removing: /mnt/nex*/data/vis_archive/*/*201708180449.cal\n",
      "removing: /mnt/nex*/data/vis_archive/*/*201708180930.cal\n",
      "removing: /mnt/nex*/data/vis_archive/*/*201708181334.cal\n",
      "removing: /mnt/nex*/data/vis_archive/*/*201708200930.cal\n",
      "removing: /mnt/nex*/data/vis_archive/*/*201708201031.cal\n",
      "removing: /mnt/nex*/data/vis_archive/*/*201708201132.cal\n",
      "removing: /mnt/nex*/data/vis_archive/*/*201708201233.cal\n",
      "removing: /mnt/nex*/data/vis_archive/*/*201708201334.cal\n",
      "removing: /mnt/nex*/data/vis_archive/*/*201708210643.cal\n",
      "removing: /mnt/nex*/data/vis_archive/*/*201708230848.cal\n",
      "removing: /mnt/nex*/data/vis_archive/*/*201708262025.cal\n",
      "removing: /mnt/nex*/data/vis_archive/*/*201708270039.cal\n",
      "removing: /mnt/nex*/data/vis_archive/*/*201708281030.cal\n",
      "removing: /mnt/nex*/data/vis_archive/*/*201708301955.cal\n",
      "removing: /mnt/nex*/data/vis_archive/*/*201709121543.cal\n",
      "removing: /mnt/nex*/data/vis_archive/*/*201709261530.cal\n",
      "removing: /mnt/nex*/data/vis_archive/*/*201710061401.cal\n",
      "removing: /mnt/nex*/data/vis_archive/*/*201710080447.cal\n",
      "removing: /mnt/nex*/data/vis_archive/*/*201710091030.cal\n",
      "removing: /mnt/nex*/data/vis_archive/*/*201710091139.cal\n",
      "removing: /mnt/nex*/data/vis_archive/*/*201710100955.cal\n",
      "removing: /mnt/nex*/data/vis_archive/*/*201710140129.cal\n",
      "removing: /mnt/nex*/data/vis_archive/*/*201710150119.cal\n",
      "removing: /mnt/nex*/data/vis_archive/*/*201710151641.cal\n",
      "removing: /mnt/nex*/data/vis_archive/*/*201710171428.cal\n",
      "removing: /mnt/nex*/data/vis_archive/*/*201710191437.cal\n",
      "removing: /mnt/nex*/data/vis_archive/*/*201710201041.cal\n",
      "removing: /mnt/nex*/data/vis_archive/*/*201710201054.cal\n",
      "removing: /mnt/nex*/data/vis_archive/*/*201711010152.cal\n",
      "removing: /mnt/nex*/data/vis_archive/*/*201711061537.cal\n",
      "removing: /mnt/nex*/data/vis_archive/*/*201711061550.cal\n",
      "removing: /mnt/nex*/data/vis_archive/*/*201711071552.cal\n",
      "removing: /mnt/nex*/data/vis_archive/*/*201711080240.cal\n",
      "removing: /mnt/nex*/data/vis_archive/*/*201711150836.cal\n",
      "removing: /mnt/nex*/data/vis_archive/*/*201712120932.cal\n",
      "removing: /mnt/nex*/data/vis_archive/*/*201801081326.cal\n",
      "removing: /mnt/nex*/data/vis_archive/*/*201801150946.cal\n",
      "removing: /mnt/nex*/data/vis_archive/*/*201801171530.cal\n",
      "removing: /mnt/nex*/data/vis_archive/*/*201801180357.cal\n",
      "removing: /mnt/nex*/data/vis_archive/*/*201802081543.cal\n",
      "removing: /mnt/nex*/data/vis_archive/*/*201802091329.cal\n",
      "removing: /mnt/nex*/data/vis_archive/*/*201803090900.cal\n",
      "removing: /mnt/nex*/data/vis_archive/*/*201803100548.cal\n",
      "removing: /mnt/nex*/data/vis_archive/*/*201803180035.cal\n",
      "removing: /mnt/nex*/data/vis_archive/*/*201803201945.cal\n",
      "removing: /mnt/nex*/data/vis_archive/*/*201803251105.cal\n",
      "removing: /mnt/nex*/data/vis_archive/*/*201803261319.cal\n",
      "removing: /mnt/nex*/data/vis_archive/*/*201803281035.cal\n",
      "removing: /mnt/nex*/data/vis_archive/*/*201803291507.cal\n",
      "removing: /mnt/nex*/data/vis_archive/*/*201803291627.cal\n",
      "removing: /mnt/nex*/data/vis_archive/*/*201803300846.cal\n",
      "removing: /mnt/nex*/data/vis_archive/*/*201804110838.cal\n",
      "removing: /mnt/nex*/data/vis_archive/*/*201804130745.cal\n",
      "removing: /mnt/nex*/data/vis_archive/*/*201804151700.cal\n",
      "removing: /mnt/nex*/data/vis_archive/*/*201804161145.cal\n",
      "removing: /mnt/nex*/data/vis_archive/*/*201804171435.cal\n",
      "removing: /mnt/nex*/data/vis_archive/*/*201804190032.cal\n",
      "removing: /mnt/nex*/data/vis_archive/*/*201804221549.cal\n",
      "removing: /mnt/nex*/data/vis_archive/*/*201804241012.cal\n",
      "removing: /mnt/nex*/data/vis_archive/*/*201804280011.cal\n"
     ]
    }
   ],
   "source": [
    "# obs = np.array([x.split('-')[1] for x in ls_resutls])\n",
    "# uniq_obs = np.unique(obs)\n",
    "\n",
    "for i in uniq_obs:\n",
    "    sizes = []\n",
    "    for j in glob.glob(PATH[:-4]+i):\n",
    "        sizes.append(os.path.getsize(j))\n",
    "        \n",
    "#     if ((np.max(sizes) - np.min(sizes)) > 0.2*np.mean(sizes) and np.min(sizes) < 1e9) or np.min(sizes) < 1e9:\n",
    "    if np.min(sizes) < 2e9:\n",
    "        print \"removing:\", PATH[:-4]+i\n",
    "        Popen(\"rm \"+PATH[:-4]+i, shell=True)\n",
    "        \n",
    "#         print sizes\n",
    "#         print \" ## \"\n",
    "#         for line in os.popen(\"ls \"+PATH[:-4]+i+\" -larth\").read().split('\\n'):\n",
    "#             print line\n",
    "            "
   ]
  },
  {
   "cell_type": "code",
   "execution_count": 33,
   "metadata": {},
   "outputs": [
    {
     "data": {
      "text/plain": [
       "11149566720"
      ]
     },
     "execution_count": 33,
     "metadata": {},
     "output_type": "execute_result"
    }
   ],
   "source": [
    "# glob.glob(PATH[:-4]+uniq_obs[0])\n",
    "os.path.getsize(\"/mnt/nex1/data/vis_archive/201711141701/353-201711141701.cal\")\n"
   ]
  },
  {
   "cell_type": "code",
   "execution_count": 18,
   "metadata": {},
   "outputs": [
    {
     "data": {
      "text/plain": [
       "'ls /mnt/nex*/data/vis_archive/*/*201608311510.cal -larth'"
      ]
     },
     "execution_count": 18,
     "metadata": {},
     "output_type": "execute_result"
    }
   ],
   "source": [
    "\"ls \"+PATH[:-4]+uniq_obs[0]+\" -larth\"\n"
   ]
  },
  {
   "cell_type": "code",
   "execution_count": null,
   "metadata": {
    "collapsed": true
   },
   "outputs": [],
   "source": [
    "for i in `seq 295 302`;\n",
    "    do for j in \"/mnt/nex1/data/vis_archive/20161116/\"$i\"-\"*\".cal\" ;\n",
    "        do echo $j &\n",
    "        \n",
    "        done  ;\n",
    "    done"
   ]
  },
  {
   "cell_type": "code",
   "execution_count": null,
   "metadata": {},
   "outputs": [],
   "source": []
  },
  {
   "cell_type": "code",
   "execution_count": 2,
   "metadata": {},
   "outputs": [],
   "source": [
    "all_obs = [x.split(\"-\")[1].split(\".\")[0]  for x in glob.glob(\"/mnt/ais*/*cal\")]\n",
    "\n",
    "unq_obs, obs_index = np.unique(all_obs, return_index = True)\n",
    "\n"
   ]
  },
  {
   "cell_type": "code",
   "execution_count": 15,
   "metadata": {},
   "outputs": [
    {
     "data": {
      "text/plain": [
       "array([201712281115, 201803111200, 201803120000, 201803290800,\n",
       "       201804281040, 201805251015, 201805251545, 201805260350,\n",
       "       201805260647, 201805261000, 201805261540, 201805261730,\n",
       "       201805261857, 201805270715, 201805280550, 201805300415,\n",
       "       201805300800, 201805300901, 201806220404, 201806230412,\n",
       "       201806240423, 201806270330, 201806281802, 201806290430,\n",
       "       201806291215, 201806301902, 201807051014, 201807051811,\n",
       "       201807061400, 201807071401, 201807090000, 201807102000,\n",
       "       201807110000, 201807140345, 201807140730, 201807140840,\n",
       "       201807141030, 201807141430, 201807141700, 201807180421,\n",
       "       201809011825, 201809211700, 201809212320, 201809220111,\n",
       "       201809220609, 201809221701, 201809230412, 201809280900,\n",
       "       201809281701, 201809290600, 201810161706, 201810162000,\n",
       "       201810170300, 201810191755, 201810192000, 201812070836,\n",
       "       201812090523, 201812120505, 201812160230, 201812161645,\n",
       "       201812170430, 201812210507, 201812291635, 201812310415,\n",
       "       201812310950, 201901010020, 201901041549, 201901060840,\n",
       "       201901091615, 201901101555, 201901120930, 201901130000,\n",
       "       201901130800, 201901131600, 201901172000, 201901182111,\n",
       "       201901190720, 201901201605, 201901201900, 201901270000,\n",
       "       201901271300, 201901290355, 201901290730, 201901291700,\n",
       "       201901300005, 201901301547, 201901301600])"
      ]
     },
     "execution_count": 15,
     "metadata": {},
     "output_type": "execute_result"
    }
   ],
   "source": [
    "np.array(all_obs, dtype=int)[obs_index]"
   ]
  },
  {
   "cell_type": "code",
   "execution_count": 3,
   "metadata": {},
   "outputs": [],
   "source": [
    "obslist = pd.DataFrame([x.split(\"\\t\") for x in os.popen(\"du /mnt/ais*/*{}*.cal -sc\".format(unq_obs[2])).read().split(\"\\n\")])\n",
    "\n"
   ]
  },
  {
   "cell_type": "code",
   "execution_count": 113,
   "metadata": {},
   "outputs": [
    {
     "data": {
      "text/plain": [
       "16    260079284\n",
       "Name: 0, dtype: object"
      ]
     },
     "execution_count": 113,
     "metadata": {},
     "output_type": "execute_result"
    }
   ],
   "source": [
    "obslist[obslist[1] == \"total\"][0]"
   ]
  },
  {
   "cell_type": "code",
   "execution_count": 73,
   "metadata": {},
   "outputs": [
    {
     "data": {
      "text/plain": [
       "910559232"
      ]
     },
     "execution_count": 73,
     "metadata": {},
     "output_type": "execute_result"
    }
   ],
   "source": [
    "st = os.statvfs(\"/mnt/ais001\")\n",
    "(s.f_bavail * s.f_frsize) / 1024"
   ]
  },
  {
   "cell_type": "code",
   "execution_count": 3,
   "metadata": {
    "scrolled": true
   },
   "outputs": [],
   "source": [
    "import os\n",
    "import glob\n",
    "import numpy as np\n",
    "import pandas as pd\n",
    "\n",
    "\n",
    "all_obs = [x.split(\"-\")[1].split(\".\")[0]  for x in glob.glob(\"/mnt/ais*/*cal\")]\n",
    "\n",
    "unq_obs, obs_index, unq_count  = np.unique(all_obs, return_index = True, return_counts = True)\n",
    "\n",
    "# for i in range(len(unq_obs)):\n",
    "\n",
    "i = 1\n",
    "\n",
    "obslist = pd.DataFrame([x.split(\"\\t\") \\\n",
    "                        for x in os.popen(\"du /mnt/ais*/*{}*.cal -sc\".format(unq_obs[i])).read().split(\"\\n\")])\n",
    "\n",
    "# if  unq_count[i] < 15:\n",
    "#     print unq_obs[i], \"not all enough subbands\"\n",
    "#     continue \n",
    "\n",
    "\n",
    "space_avail = pd.DataFrame([os.statvfs(\"/mnt/nex0\").f_bavail * os.statvfs(\"/mnt/nex0\").f_bavail,\n",
    "              os.statvfs(\"/mnt/nex1\").f_bavail * os.statvfs(\"/mnt/nex1\").f_bavail,\n",
    "              os.statvfs(\"/mnt/nex2\").f_bavail * os.statvfs(\"/mnt/nex2\").f_bavail],\n",
    "             index=[\"/mnt/nex0\",\"/mnt/nex1\",\"/mnt/nex2\"])\n",
    "\n",
    "\n",
    "# if np.array(obslist[obslist[1] == \"total\"][0].values) < 45000000:\n",
    "#     print unq_obs[i], \"too small\"\n",
    "#     continue \n",
    "\n",
    "\n",
    "\n",
    "disk = space_avail[space_avail > np.array(obslist[obslist[1] == \"total\"][0].values, dtype=int)].idxmin().values[0]\n",
    "\n",
    "\n",
    "#     if type(disk) == str:\n",
    "#         print \"sending  {} to {}\".format(unq_obs[i], disk)\n",
    "#         os.popen(\"rsync -a /mnt/ais*/*{}* {}/data/vis_archive/{}\".format(unq_obs[i], disk, unq_obs[i] ))\n",
    "#         print \"Done.\"\n",
    "\n",
    "#     elif type(disk) == np.float64:\n",
    "#         print \"not enough space on any disk for {}\".format(unq_obs[i])\n",
    "        \n",
    "#     else:\n",
    "#         print \"some other problem with {}\".format(unq_obs[i])"
   ]
  },
  {
   "cell_type": "code",
   "execution_count": 18,
   "metadata": {},
   "outputs": [
    {
     "data": {
      "text/plain": [
       "0    27281661544225\n",
       "dtype: int64"
      ]
     },
     "execution_count": 18,
     "metadata": {},
     "output_type": "execute_result"
    }
   ],
   "source": [
    "space_avail[space_avail > np.array(obslist[obslist[1] == \"total\"][0].values, dtype=int)].max()"
   ]
  },
  {
   "cell_type": "code",
   "execution_count": 15,
   "metadata": {},
   "outputs": [
    {
     "data": {
      "text/html": [
       "<div>\n",
       "<style scoped>\n",
       "    .dataframe tbody tr th:only-of-type {\n",
       "        vertical-align: middle;\n",
       "    }\n",
       "\n",
       "    .dataframe tbody tr th {\n",
       "        vertical-align: top;\n",
       "    }\n",
       "\n",
       "    .dataframe thead th {\n",
       "        text-align: right;\n",
       "    }\n",
       "</style>\n",
       "<table border=\"1\" class=\"dataframe\">\n",
       "  <thead>\n",
       "    <tr style=\"text-align: right;\">\n",
       "      <th></th>\n",
       "      <th>0</th>\n",
       "    </tr>\n",
       "  </thead>\n",
       "  <tbody>\n",
       "    <tr>\n",
       "      <th>/mnt/nex0</th>\n",
       "      <td>26918550279481</td>\n",
       "    </tr>\n",
       "    <tr>\n",
       "      <th>/mnt/nex1</th>\n",
       "      <td>15669963719424</td>\n",
       "    </tr>\n",
       "    <tr>\n",
       "      <th>/mnt/nex1</th>\n",
       "      <td>27281661544225</td>\n",
       "    </tr>\n",
       "  </tbody>\n",
       "</table>\n",
       "</div>"
      ],
      "text/plain": [
       "                        0\n",
       "/mnt/nex0  26918550279481\n",
       "/mnt/nex1  15669963719424\n",
       "/mnt/nex1  27281661544225"
      ]
     },
     "execution_count": 15,
     "metadata": {},
     "output_type": "execute_result"
    }
   ],
   "source": [
    "space_avail[space_avail > np.array(obslist[obslist[1] == \"total\"][0].values, dtype=int)]"
   ]
  },
  {
   "cell_type": "code",
   "execution_count": 19,
   "metadata": {},
   "outputs": [
    {
     "data": {
      "text/html": [
       "<div>\n",
       "<style scoped>\n",
       "    .dataframe tbody tr th:only-of-type {\n",
       "        vertical-align: middle;\n",
       "    }\n",
       "\n",
       "    .dataframe tbody tr th {\n",
       "        vertical-align: top;\n",
       "    }\n",
       "\n",
       "    .dataframe thead th {\n",
       "        text-align: right;\n",
       "    }\n",
       "</style>\n",
       "<table border=\"1\" class=\"dataframe\">\n",
       "  <thead>\n",
       "    <tr style=\"text-align: right;\">\n",
       "      <th></th>\n",
       "      <th>0</th>\n",
       "    </tr>\n",
       "  </thead>\n",
       "  <tbody>\n",
       "    <tr>\n",
       "      <th>/mnt/nex0</th>\n",
       "      <td>26918550279481</td>\n",
       "    </tr>\n",
       "    <tr>\n",
       "      <th>/mnt/nex1</th>\n",
       "      <td>15669963719424</td>\n",
       "    </tr>\n",
       "    <tr>\n",
       "      <th>/mnt/nex1</th>\n",
       "      <td>27281661544225</td>\n",
       "    </tr>\n",
       "  </tbody>\n",
       "</table>\n",
       "</div>"
      ],
      "text/plain": [
       "                        0\n",
       "/mnt/nex0  26918550279481\n",
       "/mnt/nex1  15669963719424\n",
       "/mnt/nex1  27281661544225"
      ]
     },
     "execution_count": 19,
     "metadata": {},
     "output_type": "execute_result"
    }
   ],
   "source": [
    "space_avail"
   ]
  },
  {
   "cell_type": "code",
   "execution_count": 39,
   "metadata": {},
   "outputs": [
    {
     "name": "stdout",
     "output_type": "stream",
     "text": [
      "rsync -avP /mnt/ais*/*201901311600* /mnt/nex1/data/vis_archive/201901311600\n",
      "rsync -avP /mnt/ais*/*201901311600* /mnt/nex1/data/vis_archive/201901311600\n"
     ]
    }
   ],
   "source": [
    "print \"rsync -avP /mnt/ais*/*{}*\".format(unq_obs[i]), disk+\"/data/vis_archive/{}\".format(unq_obs[i])\n",
    "\n",
    "print \"rsync -avP /mnt/ais*/*{}* {}/data/vis_archive/{}\".format(unq_obs[i], disk, unq_obs[i] )"
   ]
  },
  {
   "cell_type": "code",
   "execution_count": 48,
   "metadata": {},
   "outputs": [
    {
     "data": {
      "text/plain": [
       "'/mnt/nex0'"
      ]
     },
     "execution_count": 48,
     "metadata": {},
     "output_type": "execute_result"
    }
   ],
   "source": [
    "disk = space_avail[space_avail > np.array(obslist[obslist[1] == \"total\"][0].values, dtype=int)].idxmax().values[0]\n",
    "disk\n",
    "\n",
    "\n",
    "\n"
   ]
  },
  {
   "cell_type": "code",
   "execution_count": 26,
   "metadata": {},
   "outputs": [
    {
     "ename": "TypeError",
     "evalue": "coercing to Unicode: need string or buffer, list found",
     "output_type": "error",
     "traceback": [
      "\u001b[0;31m---------------------------------------------------------------------------\u001b[0m",
      "\u001b[0;31mTypeError\u001b[0m                                 Traceback (most recent call last)",
      "\u001b[0;32m<ipython-input-26-d62c33ef4391>\u001b[0m in \u001b[0;36m<module>\u001b[0;34m()\u001b[0m\n\u001b[0;32m----> 1\u001b[0;31m \u001b[0mos\u001b[0m\u001b[0;34m.\u001b[0m\u001b[0mpath\u001b[0m\u001b[0;34m.\u001b[0m\u001b[0misdir\u001b[0m\u001b[0;34m(\u001b[0m\u001b[0mglob\u001b[0m\u001b[0;34m.\u001b[0m\u001b[0mglob\u001b[0m\u001b[0;34m(\u001b[0m\u001b[0;34m\"/mnt/nex*/data/vis_archive/{}\"\u001b[0m\u001b[0;34m.\u001b[0m\u001b[0mformat\u001b[0m\u001b[0;34m(\u001b[0m\u001b[0munq_obs\u001b[0m\u001b[0;34m[\u001b[0m\u001b[0mi\u001b[0m\u001b[0;34m]\u001b[0m\u001b[0;34m)\u001b[0m\u001b[0;34m)\u001b[0m\u001b[0;34m)\u001b[0m\u001b[0;34m\u001b[0m\u001b[0m\n\u001b[0m",
      "\u001b[0;32m/afhome/kuiack/newtrap/lib/python2.7/genericpath.pyc\u001b[0m in \u001b[0;36misdir\u001b[0;34m(s)\u001b[0m\n\u001b[1;32m     47\u001b[0m     \u001b[0;34m\"\"\"Return true if the pathname refers to an existing directory.\"\"\"\u001b[0m\u001b[0;34m\u001b[0m\u001b[0m\n\u001b[1;32m     48\u001b[0m     \u001b[0;32mtry\u001b[0m\u001b[0;34m:\u001b[0m\u001b[0;34m\u001b[0m\u001b[0m\n\u001b[0;32m---> 49\u001b[0;31m         \u001b[0mst\u001b[0m \u001b[0;34m=\u001b[0m \u001b[0mos\u001b[0m\u001b[0;34m.\u001b[0m\u001b[0mstat\u001b[0m\u001b[0;34m(\u001b[0m\u001b[0ms\u001b[0m\u001b[0;34m)\u001b[0m\u001b[0;34m\u001b[0m\u001b[0m\n\u001b[0m\u001b[1;32m     50\u001b[0m     \u001b[0;32mexcept\u001b[0m \u001b[0mos\u001b[0m\u001b[0;34m.\u001b[0m\u001b[0merror\u001b[0m\u001b[0;34m:\u001b[0m\u001b[0;34m\u001b[0m\u001b[0m\n\u001b[1;32m     51\u001b[0m         \u001b[0;32mreturn\u001b[0m \u001b[0mFalse\u001b[0m\u001b[0;34m\u001b[0m\u001b[0m\n",
      "\u001b[0;31mTypeError\u001b[0m: coercing to Unicode: need string or buffer, list found"
     ]
    }
   ],
   "source": [
    "os.path.isdir(glob.glob(\"/mnt/nex*/data/vis_archive/{}\".format(unq_obs[i])))"
   ]
  },
  {
   "cell_type": "code",
   "execution_count": 41,
   "metadata": {},
   "outputs": [
    {
     "name": "stdout",
     "output_type": "stream",
     "text": [
      "/mnt/nex0/data/vis_archive/201809220111/295-201809220111.cal 16 files, found\n"
     ]
    }
   ],
   "source": [
    "if len(glob.glob(\"/mnt/nex?/data/vis_archive/*/*{}*\".format(unq_obs[i]))) > 0:\n",
    "    print glob.glob(\"/mnt/nex?/data/vis_archive/*/*{}*\".format(unq_obs[i]))[0], \\\n",
    "    len(glob.glob(\"/mnt/nex?/data/vis_archive/*/*{}*\".format(unq_obs[i]))), \"files, found\"\n"
   ]
  },
  {
   "cell_type": "code",
   "execution_count": 34,
   "metadata": {},
   "outputs": [
    {
     "data": {
      "text/plain": [
       "['/mnt/nex0/data/vis_archive/201809220111/295-201809220111.cal',\n",
       " '/mnt/nex0/data/vis_archive/201809220111/296-201809220111.cal',\n",
       " '/mnt/nex0/data/vis_archive/201809220111/297-201809220111.cal',\n",
       " '/mnt/nex0/data/vis_archive/201809220111/298-201809220111.cal',\n",
       " '/mnt/nex0/data/vis_archive/201809220111/299-201809220111.cal',\n",
       " '/mnt/nex0/data/vis_archive/201809220111/300-201809220111.cal',\n",
       " '/mnt/nex0/data/vis_archive/201809220111/301-201809220111.cal',\n",
       " '/mnt/nex0/data/vis_archive/201809220111/302-201809220111.cal',\n",
       " '/mnt/nex0/data/vis_archive/201809220111/313-201809220111.cal',\n",
       " '/mnt/nex0/data/vis_archive/201809220111/314-201809220111.cal',\n",
       " '/mnt/nex0/data/vis_archive/201809220111/315-201809220111.cal',\n",
       " '/mnt/nex0/data/vis_archive/201809220111/316-201809220111.cal',\n",
       " '/mnt/nex0/data/vis_archive/201809220111/317-201809220111.cal',\n",
       " '/mnt/nex0/data/vis_archive/201809220111/318-201809220111.cal',\n",
       " '/mnt/nex0/data/vis_archive/201809220111/319-201809220111.cal',\n",
       " '/mnt/nex0/data/vis_archive/201809220111/320-201809220111.cal']"
      ]
     },
     "execution_count": 34,
     "metadata": {},
     "output_type": "execute_result"
    }
   ],
   "source": [
    "glob.glob(\"/mnt/nex?/data/vis_archive/*/*{}*\".format(unq_obs[i]))"
   ]
  },
  {
   "cell_type": "code",
   "execution_count": 151,
   "metadata": {},
   "outputs": [
    {
     "data": {
      "text/html": [
       "<div>\n",
       "<style scoped>\n",
       "    .dataframe tbody tr th:only-of-type {\n",
       "        vertical-align: middle;\n",
       "    }\n",
       "\n",
       "    .dataframe tbody tr th {\n",
       "        vertical-align: top;\n",
       "    }\n",
       "\n",
       "    .dataframe thead th {\n",
       "        text-align: right;\n",
       "    }\n",
       "</style>\n",
       "<table border=\"1\" class=\"dataframe\">\n",
       "  <thead>\n",
       "    <tr style=\"text-align: right;\">\n",
       "      <th></th>\n",
       "      <th>0</th>\n",
       "    </tr>\n",
       "  </thead>\n",
       "  <tbody>\n",
       "    <tr>\n",
       "      <th>/mnt/nex0</th>\n",
       "      <td>152212327054096</td>\n",
       "    </tr>\n",
       "    <tr>\n",
       "      <th>/mnt/nex1</th>\n",
       "      <td>25965485861956</td>\n",
       "    </tr>\n",
       "    <tr>\n",
       "      <th>/mnt/nex1</th>\n",
       "      <td>27281661544225</td>\n",
       "    </tr>\n",
       "  </tbody>\n",
       "</table>\n",
       "</div>"
      ],
      "text/plain": [
       "                         0\n",
       "/mnt/nex0  152212327054096\n",
       "/mnt/nex1   25965485861956\n",
       "/mnt/nex1   27281661544225"
      ]
     },
     "execution_count": 151,
     "metadata": {},
     "output_type": "execute_result"
    }
   ],
   "source": [
    "space_avail[space_avail > np.array(obslist[obslist[1] == \"total\"][0].values, dtype=int)*1]"
   ]
  },
  {
   "cell_type": "code",
   "execution_count": 57,
   "metadata": {},
   "outputs": [
    {
     "data": {
      "text/plain": [
       "0    /mnt/nex0\n",
       "dtype: object"
      ]
     },
     "execution_count": 57,
     "metadata": {},
     "output_type": "execute_result"
    }
   ],
   "source": [
    "space_avail[space_avail > 25965485861956*1].idxmax()"
   ]
  },
  {
   "cell_type": "code",
   "execution_count": null,
   "metadata": {},
   "outputs": [],
   "source": [
    "print \"hi\""
   ]
  },
  {
   "cell_type": "code",
   "execution_count": null,
   "metadata": {},
   "outputs": [],
   "source": []
  }
 ],
 "metadata": {
  "kernelspec": {
   "display_name": "Python 2",
   "language": "python",
   "name": "python2"
  },
  "language_info": {
   "codemirror_mode": {
    "name": "ipython",
    "version": 2
   },
   "file_extension": ".py",
   "mimetype": "text/x-python",
   "name": "python",
   "nbconvert_exporter": "python",
   "pygments_lexer": "ipython2",
   "version": "2.7.12"
  }
 },
 "nbformat": 4,
 "nbformat_minor": 2
}
