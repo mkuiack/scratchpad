{
 "cells": [
  {
   "cell_type": "code",
   "execution_count": 1,
   "metadata": {},
   "outputs": [],
   "source": [
    "import sys\n",
    "import os\n",
    "import struct\n",
    "import numpy as np\n",
    "import datetime\n",
    "\n",
    "import glob\n",
    "import pandas as pd\n",
    "import matplotlib.pyplot as plt\n",
    "\n",
    "import astropy.units as u\n",
    "from astropy.time import Time\n",
    "from astropy.coordinates import AltAz, EarthLocation,SkyCoord"
   ]
  },
  {
   "cell_type": "code",
   "execution_count": 2,
   "metadata": {},
   "outputs": [],
   "source": [
    "CORR_HDR_MAGIC= 0x000000003B98F002 # Magic number in raw corr visibilities.\n",
    "A06_HDR_MAGIC = 0x4141525446414143\n",
    "A12_HDR_MAGIC = 0x4141525446414144\n",
    "LEN_HDR       = 512"
   ]
  },
  {
   "cell_type": "code",
   "execution_count": 3,
   "metadata": {},
   "outputs": [],
   "source": [
    "class TransitVis (object):\n",
    "    fname       = None # Name of visibility binary file.\n",
    "    hdr         = None # record header\n",
    "    fvis        = None # File pointer to binary file\n",
    "    nrec        = None # Total number of records in this file\n",
    "    nbline      = None # Total number of baselines in this file\n",
    "    tfilestart  = None # First timestamp in the file\n",
    "    tfileend    = None # Last timestamp in the file\n",
    "\n",
    "    # Information extracted from an individual header\n",
    "    magic       = None\n",
    "    trec        = None # Current records start time\n",
    "    sub         = None # Subband number\n",
    "    nant        = None # Total number of dual-pol antennas in the array.\n",
    "    npol        = None # Number of polarizations in the observation\n",
    "    pol2rec     = None # Number of polarizations per record.\n",
    "    nchan       = None # Number of channels in this file\n",
    "    norigchan   = None # Number of original channels before preprocessing.\n",
    "    dt          = None # Integration time per record\n",
    "\n",
    "    # Per polarization information\n",
    "    flagged_channels= None # Independent per pol.\n",
    "    flagged_dipoles = None # Independent per pol.\n",
    "    ateamflux   = None # Independent per pol.\n",
    "    weights     = None\n",
    "    nweight     = None\n",
    "\n",
    "    # Frequency associated with channel or averaged set of channels.\n",
    "    freq        = None \n",
    "\n",
    "    recbuf      = None # Complete, single record read from file\n",
    "    vis         = None # Usable visibility array per record (both pols)\n",
    "    tstamps     = None # List containing timestamps of all records in a file.\n",
    "\n",
    "    deblev      = None # Debug level for messages.\n",
    "    missrec     = None # Number of records thrown due to mismatched times.\n",
    "\n",
    "    # Function abstraction for raw and calibrated visibilities\n",
    "    read_rec    = None # Function object, initialised to the right read func.\n",
    "    read_hdr    = None # Function object, initialised to the right read func.\n",
    "    parse_hdr   = None # Function object, initialised to the right parse func.\n",
    "\n",
    "    def __init__ (self, fname, nant=None, sub=None, nchan=None, npol=None, \n",
    "                    arrayconfig=None):\n",
    "        \"\"\" Initialization of internal state corresponding to a visibility dump.\n",
    "            Since the correlator raw visibility magic number doesn't distinguish\n",
    "            between AARTFAAC-6 or AARTFAAC-12, and has no subband information, \n",
    "            this can be supplied to the init routine.\n",
    "        \"\"\"\n",
    "        # Check if fname is a valid file, and open\n",
    "        self.fname = fname\n",
    "        self.fvis = open (self.fname, 'r')\n",
    "        self.hdr = self.fvis.read (LEN_HDR)\n",
    "        self.npol = 2;\n",
    "\n",
    "#         import pdb; pdb.set_trace();\n",
    "        self.magic,self.tfilestart,trec = struct.unpack (\"<Qdd\", self.hdr[0:24])\n",
    "\n",
    "#         if (self.magic == A06_HDR_MAGIC):\n",
    "        self.nant     = 288\n",
    "#             self.read_rec = self.read_cal\n",
    "        self.parse_hdr= self.parse_cal_hdr\n",
    "        self.read_hdr = self.read_cal_hdr\n",
    "        self.nchan    = 1 # See record description in parse_cal_hdr\n",
    "        self.nweight  = (6*7)/2 # Per station weights\n",
    "        self.pol2rec  = 1\n",
    "\n",
    "\n",
    "\n",
    "        # New format, stores only upper triangle float ACM\n",
    "        self.nbline  = self.nant*(self.nant+1)/2\n",
    "        # 8 due to float complex.\n",
    "        self.payload = self.nbline * self.nchan * self.pol2rec * 8\n",
    "        self.recsize = self.payload + LEN_HDR\n",
    "        fsize = os.path.getsize(fname)\n",
    "\n",
    "        # NOTE: We need to read 2 recs for getting both polarizations from .cal\n",
    "        if self.magic == A12_HDR_MAGIC or self.magic == A06_HDR_MAGIC:\n",
    "            self.nrec = fsize/(self.recsize*2)\n",
    "        else:\n",
    "            self.nrec = fsize/(self.recsize) # each record has both pols in .vis\n",
    "            # First record has a corrupted timestamp in a .vis file\n",
    "            self.fvis.seek (self.recsize, 0) \n",
    "            self.hdr = self.fvis.read (LEN_HDR)\n",
    "            self.magic,self.tfilestart,trec = struct.unpack (\"<Qdd\", \n",
    "                                                        self.hdr[0:24])\n",
    "\n",
    "        self.fvis.seek (0)\n",
    "        self.dt = datetime.timedelta (seconds=(trec - self.tfilestart))# seconds\n",
    "        self.tfilestart = datetime.datetime.utcfromtimestamp(self.tfilestart)\n",
    "        \n",
    "        # Find the last timestamp in a file.\n",
    "        self.fvis.seek (0)\n",
    "        self.fvis.seek ((self.nrec-1) * self.recsize)\n",
    "        self.hdr = self.fvis.read (LEN_HDR)\n",
    "        self.magic, self.tfileend, trec, self.sub, self.nant, pol, \\\n",
    "            self.norigchan, _, _, _, _, self.freq = self.parse_hdr (self.hdr)\n",
    "\n",
    "        self.fvis.seek (0)\n",
    "\n",
    "\n",
    "    def parse_cal_hdr(self, hdr):\n",
    "        \"\"\"\n",
    "        Parse aartfaac header for calibrated data, independent per pol.\n",
    "        Two pols are packed one after another, but with independent headers.\n",
    "        struct output_header_t\n",
    "        {\n",
    "          uint64_t magic;                   ///< magic to determine header\n",
    "          double start_time;                ///< start time (unix)\n",
    "          double end_time;                  ///< end time (unix)\n",
    "          int32_t subband;                  ///< lofar subband\n",
    "          int32_t num_dipoles;              ///< number of dipoles (288 or 576)\n",
    "          int32_t polarization;             ///< XX=0, YY=1\n",
    "          int32_t num_channels;             ///< number of channels (<= 64)\n",
    "          float ateam_flux[5];              ///< Ateam fluxes(CasA, CygA, Tau, Vir, Sun)\n",
    "          std::bitset<5> ateam;             ///< Ateam active\n",
    "          std::bitset<64> flagged_channels; ///< bitset of flagged channels (8 byte)\n",
    "          std::bitset<576> flagged_dipoles; ///< bitset of flagged dipoles (72 byte)\n",
    "          uint32_t weights[78];             ///< stationweights n*(n+1)/2, n in {6, 12}\n",
    "          uint8_t pad[48];                  ///< 512 byte block\n",
    "        };\n",
    "        Record layout: The incoming channels in the raw visibilities from the\n",
    "            correlator can be averaged in various combinations. The resulting\n",
    "            averaged product gets its own record with an independent header.\n",
    "            The record size for all records is the same, and corresponding data\n",
    "            products (all records with the same channel integration, e.g.) will\n",
    "            go into a single file. Other channel groups being averaged will go \n",
    "            into separate files.  \n",
    "        \"\"\"\n",
    "        try:\n",
    "            magic, t0, t1, sub, nant, pol, norigchan = struct.unpack(\"<Qddiiii\",\n",
    "                                                     hdr[0:40])\n",
    "            ateamflux = struct.unpack(\"<fffff\", hdr[40:60])\n",
    "            ateam, flag_chans = struct.unpack(\"<QQ\", hdr[60:76])\n",
    "            flag_dips = struct.unpack (\"<72b\", hdr[76:148])\n",
    "            weights = struct.unpack ((\"<%di\" % self.nweight), \n",
    "                                    hdr[148:148+self.nweight*4]) # int weights\n",
    "        except struct.error:\n",
    "            print '### struct unpack error!'\n",
    "            raise\n",
    "\n",
    "        assert (magic == A06_HDR_MAGIC or magic == A12_HDR_MAGIC)\n",
    "        # TODO: Examine the flagged channels to determine the actual frequency \n",
    "        # of the averaged channels. Currently return subband center.\n",
    "        freq = sub * 195312.5 # Hz,\n",
    "        \n",
    "        return (magic, datetime.datetime.utcfromtimestamp(t0), datetime.datetime.utcfromtimestamp(t1), \n",
    "                sub, nant, pol, norigchan, ateamflux, flag_chans, flag_dips, weights, freq)\n",
    "\n",
    "    # Return just the header, with metainformation extracted.\n",
    "    # Faster than doing an actual read of the record payload.\n",
    "    def read_cal_hdr (self, rec):\n",
    "        \n",
    "        assert (self.fvis)\n",
    "        if (rec != None):\n",
    "            raise NotImplemented\n",
    "\n",
    "        # First pol.\n",
    "        hdr = self.fvis.read (LEN_HDR)\n",
    "        m, self.trec, t1, s, d, p, c, ateamflux, flag_chan, flag_dip, weights, \\\n",
    "                 freq = self.parse_hdr (hdr)\n",
    "        self.ateamflux[p] = ateamflux\n",
    "        self.flagged_dipoles[p] = flag_dip\n",
    "        self.flagged_channels[p] = flag_chan\n",
    "\n",
    "        self.fvis.seek (self.payload, 1)\n",
    "\n",
    "        # Second polarization\n",
    "        hdr = self.fvis.read (LEN_HDR)\n",
    "        self.magic, trec, _, sub, self.nant, pol, \\\n",
    "            self.norigchan, ateamflux, flag_chan, flag_dip, weights, \\\n",
    "                    freq = self.parse_hdr (hdr)\n",
    "\n",
    "        self.fvis.seek (self.payload, 1)\n",
    "        # Check if both records correspond to the same trec\n",
    "        # We can choose to keep only the single pol, or reject this record.\n",
    "        if  (trec != self.trec):\n",
    "            self.recbuf = 0\n",
    "            self.fvis.seek (-self.recsize, 1) \n",
    "            print '## Mismatched times: pol %d tim: %s, pol %d tim: %s' \\\n",
    "                    % (p,self.trec, pol, trec)\n",
    "            self.missrec = self.missrec + 1\n",
    "            return -1\n",
    "\n",
    "        self.ateamflux[p] = ateamflux\n",
    "        self.flagged_dipoles[p] = flag_dip\n",
    "        self.flagged_channels[p] = flag_chan\n",
    "\n",
    "        return 1"
   ]
  },
  {
   "cell_type": "code",
   "execution_count": 4,
   "metadata": {},
   "outputs": [
    {
     "name": "stdout",
     "output_type": "stream",
     "text": [
      "start: 2017-02-25 01:30:10.068455\n",
      "end: 2017-02-25 03:19:33.315354\n",
      "alt end: 2017-02-25 05:07:32.068455\n",
      "check: 2018-02-15 14:10:12\n",
      "Time covered by calibrated vis:  False\n",
      "Time covered by calibrated vis:  False\n"
     ]
    }
   ],
   "source": [
    "\n",
    "fname = \"/mnt/nex1/data/vis_archive/201702250130/299-201702250130.cal\"\n",
    "\n",
    "vis = TransitVis (fname)\n",
    "\n",
    "print \"start:\", vis.tfilestart \n",
    "print \"end:\", vis.tfileend\n",
    "print \"alt end:\", Time(vis.tfilestart) + vis.nrec*u.s\n",
    "\n",
    "d = datetime.datetime(2018, 02, 15, 14, 10, 12)\n",
    "print \"check:\", d #d.year, d.month, d.day, d.hour, d.minute, d.second\n",
    "print \"Time covered by calibrated vis: \",(vis.tfilestart < d) and (vis.tfileend > d)\n",
    "print \"Time covered by calibrated vis: \",(vis.tfilestart < d) and (Time(vis.tfilestart) + vis.nrec*u.s > d)"
   ]
  },
  {
   "cell_type": "code",
   "execution_count": 137,
   "metadata": {
    "collapsed": true
   },
   "outputs": [],
   "source": [
    "# TODO:\n",
    "\n",
    "# get closest without going over foldername\n",
    "# ls /mnt/nex*/data/vis_archive/* -d\n",
    "\n",
    "# get closest without going over file in folder \n",
    "# # if not possible, time not covered \n",
    "\n",
    "# compare check time to start and end time\n",
    "# # return true or false\n",
    "\n"
   ]
  },
  {
   "cell_type": "code",
   "execution_count": 5,
   "metadata": {},
   "outputs": [],
   "source": [
    "\n",
    "vis_archive = np.array(glob.glob(\"/mnt/nex*/data/vis_archive/*/*.cal\"))\n"
   ]
  },
  {
   "cell_type": "code",
   "execution_count": 6,
   "metadata": {},
   "outputs": [],
   "source": [
    "obs_dates = pd.to_datetime([x[-16:-4] for x in vis_archive])\n",
    "\n",
    "unique_obs, unique_obs_index = np.unique([x[-16:-4] for x in vis_archive],return_index=True)"
   ]
  },
  {
   "cell_type": "code",
   "execution_count": 90,
   "metadata": {},
   "outputs": [
    {
     "data": {
      "text/plain": [
       "DatetimeIndex(['2016-08-31 15:10:00', '2016-09-05 16:47:00',\n",
       "               '2016-09-07 03:40:00', '2016-11-12 06:32:00',\n",
       "               '2016-11-12 14:35:00', '2016-11-13 12:35:00',\n",
       "               '2016-11-13 20:00:00', '2016-11-14 05:01:00',\n",
       "               '2016-11-14 09:02:00', '2016-11-14 10:03:00',\n",
       "               ...\n",
       "               '2018-04-28 04:10:00', '2018-04-28 07:45:00',\n",
       "               '2018-04-29 01:01:00', '2018-04-29 03:00:00',\n",
       "               '2018-04-29 09:00:00', '2018-04-29 15:01:00',\n",
       "               '2018-04-30 12:08:00', '2018-04-30 15:10:00',\n",
       "               '2018-05-01 01:00:00', '2018-05-01 08:10:00'],\n",
       "              dtype='datetime64[ns]', length=646, freq=None)"
      ]
     },
     "execution_count": 90,
     "metadata": {},
     "output_type": "execute_result"
    }
   ],
   "source": [
    "obs_dates[unique_obs_index]"
   ]
  },
  {
   "cell_type": "code",
   "execution_count": 7,
   "metadata": {},
   "outputs": [],
   "source": [
    "fermi = pd.read_csv('/home/kuiack/RECOVERED_FILES/kuiack/fermi_GRB_cat.csv')\n",
    "swift = pd.read_csv(\"/home/kuiack/swift_GRB_cat.csv\")"
   ]
  },
  {
   "cell_type": "code",
   "execution_count": 8,
   "metadata": {},
   "outputs": [],
   "source": [
    "fermi[\"trigger_time\"] = pd.to_datetime(fermi[\"trigger_time\"])\n",
    "swift[\"trigger_time\"] = pd.to_datetime(swift[\"trigger_time\"], errors='coerce')"
   ]
  },
  {
   "cell_type": "code",
   "execution_count": 48,
   "metadata": {},
   "outputs": [],
   "source": [
    "swift.to_csv(\"/home/kuiack/swift_GRB_cat.csv\", index=None)"
   ]
  },
  {
   "cell_type": "code",
   "execution_count": 9,
   "metadata": {
    "scrolled": false
   },
   "outputs": [
    {
     "data": {
      "text/plain": [
       "Index([u'GRB', u'Time [UT]', u'ra', u'dec', u'BAT T90 [sec]', u'trigger_time'], dtype='object')"
      ]
     },
     "execution_count": 9,
     "metadata": {},
     "output_type": "execute_result"
    }
   ],
   "source": [
    "swift.keys()\n",
    "    "
   ]
  },
  {
   "cell_type": "code",
   "execution_count": 99,
   "metadata": {},
   "outputs": [
    {
     "data": {
      "text/plain": [
       "Timestamp('2014-03-11 21:14:35.646000')"
      ]
     },
     "execution_count": 99,
     "metadata": {},
     "output_type": "execute_result"
    }
   ],
   "source": [
    "fermi[\"trigger_time\"].iloc[-1]"
   ]
  },
  {
   "cell_type": "code",
   "execution_count": 11,
   "metadata": {},
   "outputs": [],
   "source": [
    "CS002 = EarthLocation.from_geocentric (3826577.109500000, 461022.900196000, 5064892.758, 'm')"
   ]
  },
  {
   "cell_type": "code",
   "execution_count": 88,
   "metadata": {
    "scrolled": true
   },
   "outputs": [
    {
     "name": "stdout",
     "output_type": "stream",
     "text": [
      " fermi GRB found in: /mnt/nex1/data/vis_archive/201804271004/317-201804271004.cal\n",
      "\tfermi time: \t2018-04-27 10:37:03.044000 \t283.33 70.3 331.19143166 43.7664736372\n",
      "\t\t2018-04-27 10:04:25.199590\n",
      "\t\t2018-04-27 17:11:09.199590\n",
      " fermi GRB found in: /mnt/nex1/data/vis_archive/201804261245/318-201804261245.cal\n",
      "\tfermi time: \t2018-04-26 13:11:00.846000 \t202.41 58.17 20.2988358183 65.1101806031\n",
      "\t\t2018-04-26 12:45:10.442911\n",
      "\t\t2018-04-26 20:03:05.442911\n",
      " fermi GRB found in: /mnt/nex1/data/vis_archive/201804230020/318-201804230020.cal\n",
      "\tfermi time: \t2018-04-23 00:47:03.657000 \t208.68 9.84 208.87580711 46.3021125134\n",
      "\t\t2018-04-23 00:20:19.822249\n",
      "\t\t2018-04-23 02:28:07.822249\n",
      " fermi GRB found in: /mnt/nex1/data/vis_archive/201803110000/345-201803110000.cal\n",
      "\tfermi time: \t2018-03-11 01:45:53.301000 \t53.95 -35.77 294.50675753 151.697399311\n",
      "\t\t2018-03-11 00:00:11.903217\n",
      "\t\t2018-03-11 11:53:14.903217\n",
      " fermi GRB found in: /mnt/nex0/data/vis_archive/201801130322/228-201801130322.cal\n",
      "\tfermi time: \t2018-01-13 10:02:05.407000 \t174.63 -64.74 219.479037813 138.251016989\n",
      "\t\t2018-01-13 03:22:11.802179\n",
      "\t\t2018-01-13 12:17:25.802179\n",
      " fermi GRB found in: /mnt/nex0/data/vis_archive/201801121500/228-201801121500.cal\n",
      "\tfermi time: \t2018-01-12 20:12:28.340000 \t173.92 23.06 59.2071644284 84.0247080701\n",
      "\t\t2018-01-12 15:00:11.235569\n",
      "\t\t2018-01-12 23:40:32.235569\n",
      " fermi GRB found in: /mnt/nex2/data/vis_archive/201801111600/228-201801111600.cal\n",
      "\tfermi time: \t2018-01-11 19:34:00.495000 \t177.17 2.9 58.5713822098 108.245784885\n",
      "\t\t2018-01-11 16:00:10.779469\n",
      "\t\t2018-01-11 22:41:18.779469\n",
      " fermi GRB found in: /mnt/nex0/data/vis_archive/201710090150/318-201710090150.cal\n",
      "\tfermi time: \t2017-10-09 03:18:20.638000 \t348.14 42.31 296.422260551 55.3361918405\n",
      "\t\t2017-10-09 01:50:10.390400\n",
      "\t\t2017-10-09 03:48:11.390400\n",
      " fermi GRB found in: /mnt/nex0/data/vis_archive/201708260830/362-201708260830.cal\n",
      "\tfermi time: \t2017-08-26 08:51:07.514000 \t64.3379166667 21.0738888889 249.784373975 49.455595481\n",
      "\t\t2017-08-26 08:30:10.839025\n",
      "\t\t2017-08-26 09:28:34.839025\n",
      " fermi GRB found in: /mnt/nex2/data/vis_archive/201708251133/362-201708251133.cal\n",
      "\tfermi time: \t2017-08-25 12:00:05.998000 \t3.64 20.12 337.745855382 104.184177569\n",
      "\t\t2017-08-25 11:33:10.350305\n",
      "\t\t2017-08-25 12:31:35.350305\n",
      " fermi GRB found in: /mnt/nex0/data/vis_archive/201708122031/236-201708122031.cal\n",
      "\tfermi time: \t2017-08-13 01:13:08.803000 \t201.057916667 -5.49083333333 316.630961663 124.919577122\n",
      "\t\t2017-08-12 20:31:10.348651\n",
      "\t\t2017-08-13 02:26:37.348651\n",
      " fermi GRB found in: /mnt/nex0/data/vis_archive/201706260936/319-201706260936.cal\n",
      "\tfermi time: \t2017-06-26 09:37:21.954000 \t165.414166667 56.4688888889 43.4068679381 52.5714489743\n",
      "\t\t2017-06-26 09:36:14.152781\n",
      "\t\t2017-06-26 09:44:56.152781\n",
      " fermi GRB found in: /mnt/nex0/data/vis_archive/201706140310/299-201706140310.cal\n",
      "\tfermi time: \t2017-06-14 06:06:41.453000 \t70.55 37.93 78.4317332833 48.9489784101\n",
      "\t\t2017-06-14 03:10:21.382339\n",
      "\t\t2017-06-14 06:17:44.382339\n",
      " fermi GRB found in: /mnt/nex0/data/vis_archive/201706071502/300-201706071502.cal\n",
      "\tfermi time: \t2017-06-07 23:17:59.567000 \t7.34291666667 9.23805555556 64.5829011255 96.8267330115\n",
      "\t\t2017-06-07 15:02:20.988078\n",
      "\t\t2017-06-07 23:53:27.988078\n",
      " fermi GRB found in: /mnt/nex0/data/vis_archive/201706071502/300-201706071502.cal\n",
      "\tfermi time: \t2017-06-07 22:41:58.947000 \t246.660833333 -39.1588888889 177.611630051 92.1494311692\n",
      "\t\t2017-06-07 15:02:20.988078\n",
      "\t\t2017-06-07 23:53:27.988078\n",
      " fermi GRB found in: /mnt/nex1/data/vis_archive/201703072025/296-201703072025.cal\n",
      "\tfermi time: \t2017-03-07 20:25:17.495000 \t13.535 9.53694444444 287.873569549 91.2782170687\n",
      "\t\t2017-03-07 20:25:10.043453\n",
      "\t\t2017-03-07 21:23:35.043453\n",
      " fermi GRB found in: /mnt/nex0/data/vis_archive/201703060100/300-201703060100.cal\n",
      "\tfermi time: \t2017-03-06 03:07:17.917000 \t157.88 27.75 264.215055798 50.1763675628\n",
      "\t\t2017-03-06 01:00:10.066340\n",
      "\t\t2017-03-06 03:57:48.066340\n",
      " fermi GRB found in: /mnt/nex2/data/vis_archive/20161218/300-201612180630.cal\n",
      "\tfermi time: \t2016-12-18 08:32:40.647000 \t358.64 -16.95 60.1662450625 130.500902551\n",
      "\t\t2016-12-18 06:30:10.047657\n",
      "\t\t2016-12-18 08:50:30.047657\n",
      " fermi GRB found in: /mnt/nex1/data/vis_archive/20161112/295-201611120632.cal\n",
      "\tfermi time: \t2016-11-12 11:54:29.901000 \t278.82 8.58 127.402806907 55.5317315193\n",
      "\t\t2016-11-12 06:32:11.058012\n",
      "\t\t2016-11-12 14:21:27.058012\n",
      " swift GRB found in: /mnt/nex0/data/vis_archive/201803150558/345-201803150558.cal\n",
      "\tswift time: \t2018-03-15 07:04:53 \t324.99 -61.461 159.767701786 118.488370273\n",
      "\t\t2018-03-15 05:58:20.062469\n",
      "\t\t2018-03-15 09:42:30.062469\n",
      " swift GRB found in: /mnt/nex0/data/vis_archive/201801140000/229-201801140000.cal\n",
      "\tswift time: \t2018-01-14 01:32:02 \t330.999 -17.937 347.036774654 144.398380148\n",
      "\t\t2018-01-14 00:00:11.355228\n",
      "\t\t2018-01-14 06:56:13.355228\n",
      " swift GRB found in: /mnt/nex0/data/vis_archive/201710011700/318-201710011700.cal\n",
      "\tswift time: \t2017-10-01 21:06:19 \t11.28 -1.586 137.043237395 62.6811874077\n",
      "\t\t2017-10-01 17:00:10.473047\n",
      "\t\t2017-10-02 00:01:11.473047\n"
     ]
    },
    {
     "data": {
      "image/png": "[encoded data removed]",
      "text/plain": [
       "<matplotlib.figure.Figure at 0x7f8f986add50>"
      ]
     },
     "metadata": {},
     "output_type": "display_data"
    }
   ],
   "source": [
    "plt.figure(figsize=(12,12))\n",
    "ax = plt.subplot(projection='polar')\n",
    "\n",
    "for i in range(len(fermi[\"trigger_time\"])):\n",
    "#     print \"fermi time:\", fermi[\"trigger_time\"].iloc[i]\n",
    "    try:\n",
    "        fermi_time = fermi[\"trigger_time\"].iloc[i]\n",
    "#     print obs_dates[unique_obs_index][obs_dates[unique_obs_index] < fermi[\"trigger_time\"].iloc[i]][-1]\n",
    "        vis = TransitVis (vis_archive[unique_obs_index][obs_dates[unique_obs_index] < fermi[\"trigger_time\"].iloc[i]][-1])\n",
    "    \n",
    "        position = SkyCoord(fermi[\"ra\"].iloc[i]*u.degree, fermi[\"dec\"].iloc[i]*u.degree)\n",
    "        altaz = position.transform_to(AltAz(obstime=fermi[\"trigger_time\"].iloc[i], location=CS002))\n",
    "    \n",
    "        if fermi[\"trigger_time\"].iloc[i] > vis.tfilestart and  fermi[\"trigger_time\"].iloc[i] < vis.tfilestart + datetime.timedelta(seconds=vis.nrec):\n",
    "            print \" fermi GRB found in:\",vis_archive[unique_obs_index][obs_dates[unique_obs_index] < fermi[\"trigger_time\"].iloc[i]][-1]\n",
    "            print '\\t', \"fermi time:\",'\\t', fermi[\"trigger_time\"].iloc[i], '\\t', fermi[\"ra\"].iloc[i], fermi[\"dec\"].iloc[i], altaz.az.deg, 90.-altaz.alt.deg\n",
    "            print '\\t','\\t', vis.tfilestart\n",
    "            print '\\t','\\t', vis.tfilestart + datetime.timedelta(seconds=vis.nrec)\n",
    "            \n",
    "            \n",
    "            plt.scatter(altaz.az.rad,90-altaz.alt.deg,c=\"k\", lw=0, s=20 )\n",
    "            \n",
    "# plt.plot(altaz.az.rad[:1000],np.abs(90-altaz.alt.deg)[:1000], \".\", c=col_tup[:1000], lw=0 )\n",
    "\n",
    "            \n",
    "    except IndexError:\n",
    "        continue \n",
    "\n",
    "for i in range(len(swift[\"trigger_time\"])):\n",
    "    try:\n",
    "        swift_time = swift[\"trigger_time\"].iloc[i]\n",
    "        vis = TransitVis (vis_archive[unique_obs_index][obs_dates[unique_obs_index] < swift[\"trigger_time\"].iloc[i]][-1])\n",
    "    \n",
    "        position = SkyCoord(swift[\"ra\"].iloc[i]*u.degree, swift[\"dec\"].iloc[i]*u.degree)\n",
    "        altaz = position.transform_to(AltAz(obstime=swift[\"trigger_time\"].iloc[i], location=CS002))\n",
    "    \n",
    "        if swift[\"trigger_time\"].iloc[i] > vis.tfilestart and  swift[\"trigger_time\"].iloc[i] < vis.tfilestart + datetime.timedelta(seconds=vis.nrec):\n",
    "            print \" swift GRB found in:\",vis_archive[unique_obs_index][obs_dates[unique_obs_index] < swift[\"trigger_time\"].iloc[i]][-1]\n",
    "            print '\\t', \"swift time:\",'\\t', swift[\"trigger_time\"].iloc[i], '\\t', swift[\"ra\"].iloc[i], swift[\"dec\"].iloc[i], altaz.az.deg, 90.-altaz.alt.deg\n",
    "            print '\\t','\\t', vis.tfilestart\n",
    "            print '\\t','\\t', vis.tfilestart + datetime.timedelta(seconds=vis.nrec)\n",
    "            \n",
    "            \n",
    "            plt.scatter(altaz.az.rad,90-altaz.alt.deg,c=\"r\", lw=0, s=20 )\n",
    "            \n",
    "# plt.plot(altaz.az.rad[:1000],np.abs(90-altaz.alt.deg)[:1000], \".\", c=col_tup[:1000], lw=0 )\n",
    "\n",
    "            \n",
    "    except IndexError:\n",
    "        continue \n",
    "        \n",
    "        \n",
    "plt.plot(np.linspace(0,2*np.pi, 1000),50.*np.ones(1000),\",\",c=\"b\")\n",
    "ax.set_theta_zero_location(\"N\")\n"
   ]
  },
  {
   "cell_type": "code",
   "execution_count": 13,
   "metadata": {},
   "outputs": [
    {
     "data": {
      "text/plain": [
       "1000"
      ]
     },
     "execution_count": 13,
     "metadata": {},
     "output_type": "execute_result"
    }
   ],
   "source": [
    "len(fermi)"
   ]
  },
  {
   "cell_type": "code",
   "execution_count": 27,
   "metadata": {},
   "outputs": [
    {
     "name": "stdout",
     "output_type": "stream",
     "text": [
      "211.979034563 57.4321619406\n"
     ]
    }
   ],
   "source": [
    "position = SkyCoord(202.9*u.degree, 0.0*u.degree)\n",
    "altaz = position.transform_to(AltAz(obstime=\"2018-04-23T00:47:01\", location=CS002))\n",
    "print altaz.az.deg, 90.-altaz.alt.deg"
   ]
  },
  {
   "cell_type": "code",
   "execution_count": 70,
   "metadata": {},
   "outputs": [
    {
     "name": "stdout",
     "output_type": "stream",
     "text": [
      "97 days, 12:18:52\n"
     ]
    }
   ],
   "source": [
    "delta = datetime.timedelta()\n",
    "\n",
    "\n",
    "for obs in vis_archive[unique_obs_index]:\n",
    "    vis = TransitVis (fname)\n",
    "\n",
    "#     print \"start:\", vis.tfilestart \n",
    "#     print \"alt end:\", Time(vis.tfilestart) + vis.nrec*u.s\n",
    "    \n",
    "    delta += datetime.timedelta(seconds=vis.nrec)\n",
    "    \n",
    "    \n",
    "print delta"
   ]
  },
  {
   "cell_type": "code",
   "execution_count": 23,
   "metadata": {},
   "outputs": [
    {
     "name": "stdout",
     "output_type": "stream",
     "text": [
      "13042\n",
      "2017-02-25 05:07:32.068455\n"
     ]
    }
   ],
   "source": [
    "\n",
    "\n",
    "print vis.nrec\n",
    "print Time(vis.tfilestart) + vis.nrec*u.s\n"
   ]
  },
  {
   "cell_type": "code",
   "execution_count": 47,
   "metadata": {},
   "outputs": [],
   "source": [
    "\n",
    "\n",
    "delta = dt.timedelta()"
   ]
  },
  {
   "cell_type": "code",
   "execution_count": 63,
   "metadata": {},
   "outputs": [
    {
     "data": {
      "text/plain": [
       "datetime.timedelta(0, 13042)"
      ]
     },
     "execution_count": 63,
     "metadata": {},
     "output_type": "execute_result"
    }
   ],
   "source": [
    "delta + dt.timedelta(seconds=vis.nrec)"
   ]
  },
  {
   "cell_type": "code",
   "execution_count": 62,
   "metadata": {},
   "outputs": [
    {
     "data": {
      "text/plain": [
       "datetime.datetime(2017, 2, 25, 5, 7, 32, 68455)"
      ]
     },
     "execution_count": 62,
     "metadata": {},
     "output_type": "execute_result"
    }
   ],
   "source": [
    "vis.tfilestart+ dt.timedelta(seconds=vis.nrec)"
   ]
  },
  {
   "cell_type": "code",
   "execution_count": 75,
   "metadata": {
    "scrolled": true
   },
   "outputs": [
    {
     "name": "stdout",
     "output_type": "stream",
     "text": [
      "201702_data.pickle.pkl          full_spectrum_file_rms_lst.csv\r\n",
      "201702_data.pickle.pkl.v1       full_spectrum_file_rms_lst.csv.v1\r\n",
      "201702_data.pickle.pkl.v2       full_spectrum_file_rms_lst.csv.v2\r\n",
      "295-201802091329.cal_XX.txt     image_filter.ipynb\r\n",
      "295-201802091329.cal_XX.txt.v1  image_filter.ipynb.v1\r\n",
      "295-201802091329.cal_XX.txt.v2  image_filter.ipynb.v2\r\n",
      "295-201802091329.cal_YY.txt     make_reference_catalogue.ipynb\r\n",
      "295-201802091329.cal_YY.txt.v1  make_reference_catalogue.ipynb.v1\r\n",
      "295-201802091329.cal_YY.txt.v2  make_reference_catalogue.ipynb.v2\r\n",
      "350-201711071552.cal_XX.txt     \u001b[0m\u001b[01;34mmkuiack\u001b[0m/\r\n",
      "350-201711071552.cal_XX.txt.v1  monet_img.log\r\n",
      "350-201711071552.cal_XX.txt.v2  monet_img.log.v1\r\n",
      "350-201711071552.cal_YY.txt     monet_img.log.v2\r\n",
      "350-201711071552.cal_YY.txt.v1  \u001b[01;34mnewtrap\u001b[0m/\r\n",
      "350-201711071552.cal_YY.txt.v2  prototype_atv_visualisation.ipynb\r\n",
      "357-201711071810.cal_YY.txt     prototype_atv_visualisation.ipynb.v1\r\n",
      "357-201711071810.cal_YY.txt.v1  prototype_atv_visualisation.ipynb.v2\r\n",
      "357-201711071810.cal_YY.txt.v2  qc_gather.py\r\n",
      "4913                            qc_gather.py.v1\r\n",
      "4913.v1                         qc_gather.py.v2\r\n",
      "4913.v2                         S175_file_rms_lst.csv\r\n",
      "ads_20170215.txt                S175_file_rms_lst.csv.v1\r\n",
      "ads_20170215.txt.v1             S175_file_rms_lst.csv.v2\r\n",
      "ads_20170215.txt.v2             S353_data_reduced.npz1x3Dgw-numpy.npy\r\n",
      "ads-ais_20170217.txt            S353_data_reduced.npz1x3Dgw-numpy.npy.v1\r\n",
      "ads-ais_20170217.txt.v1         S353_data_reduced.npz1x3Dgw-numpy.npy.v2\r\n",
      "ads-ais_20170217.txt.v2         \u001b[01;34mscratchpad\u001b[0m/\r\n",
      "ais_20170223.log                screenlog.0\r\n",
      "ais_20170223.log.v1             screenlog.0.v1\r\n",
      "ais_20170223.log.v2             screenlog.0.v2\r\n",
      "ais_20170226.log                \u001b[01;34msoft\u001b[0m/\r\n",
      "ais_20170226.log.v1             start_clients.sh\r\n",
      "ais_20170226.log.v2             start_clients.sh.v1\r\n",
      "DISK01C0656.fits                start_clients.sh.v2\r\n",
      "DISK01C0656.fits.v1             \u001b[01;34mtkp\u001b[0m/\r\n",
      "DISK01C0656.fits.v2             trap_4_img2.log\r\n",
      "ez_setup.py                     trap_4_img2.log.v1\r\n",
      "ez_setup.py.v1                  trap_4_img2.log.v2\r\n",
      "ez_setup.py.v2                  trap_4_img.log\r\n",
      "fermi_GRB_cat.csv               trap_4_img.log.v1\r\n",
      "fermi_GRB_cat.csv.v1            trap_4_img.log.v2\r\n",
      "fermi_GRB_cat.csv.v2            \u001b[01;34mvariable_20180215\u001b[0m/\r\n",
      "FINAL_flux_ref.csv              VLSSr.tsv\r\n",
      "FINAL_flux_ref.csv.v1           VLSSr.tsv.v1\r\n",
      "FINAL_flux_ref.csv.v2           VLSSr.tsv.v2\r\n"
     ]
    }
   ],
   "source": [
    "ls /home/kuiack/RECOVERED_FILES/kuiack/\n"
   ]
  },
  {
   "cell_type": "code",
   "execution_count": null,
   "metadata": {},
   "outputs": [],
   "source": []
  }
 ],
 "metadata": {
  "kernelspec": {
   "display_name": "Python 2",
   "language": "python",
   "name": "python2"
  },
  "language_info": {
   "codemirror_mode": {
    "name": "ipython",
    "version": 2
   },
   "file_extension": ".py",
   "mimetype": "text/x-python",
   "name": "python",
   "nbconvert_exporter": "python",
   "pygments_lexer": "ipython2",
   "version": "2.7.12"
  }
 },
 "nbformat": 4,
 "nbformat_minor": 2
}
